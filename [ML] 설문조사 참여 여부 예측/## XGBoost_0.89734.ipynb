{
 "cells": [
  {
   "cell_type": "markdown",
   "metadata": {
    "id": "rSlGkmrvWWCN"
   },
   "source": [
    "# 1. Import"
   ]
  },
  {
   "cell_type": "code",
   "execution_count": 1,
   "metadata": {
    "id": "D1cHjZa0WWCd"
   },
   "outputs": [],
   "source": [
    "import pandas as pd\n",
    "import numpy as np\n",
    "import matplotlib.pyplot as plt\n",
    "import gc\n",
    "import warnings\n",
    "warnings.filterwarnings(\"ignore\")\n",
    "\n",
    "from tqdm import tqdm\n",
    "\n",
    "# Data Wrangling\n",
    "import pandas as pd\n",
    "from pandas import Series, DataFrame\n",
    "import numpy as np\n",
    "\n",
    "# Visualization\n",
    "import matplotlib.pylab as plt\n",
    "from matplotlib import font_manager, rc\n",
    "import seaborn as sns\n",
    "\n",
    "# Preprocessing & Feature Engineering\n",
    "from sklearn.model_selection import train_test_split\n",
    "\n",
    "# Modeling\n",
    "from lightgbm import LGBMClassifier\n",
    "\n",
    "# Evaluation\n",
    "from sklearn.metrics import *\n",
    "\n",
    "# Utility\n",
    "import os\n",
    "import time\n",
    "import random\n",
    "import warnings; warnings.filterwarnings(\"ignore\")\n",
    "from IPython.display import Image\n",
    "import pickle\n",
    "from tqdm import tqdm, tqdm_notebook\n",
    "import platform\n",
    "from itertools import combinations"
   ]
  },
  {
   "cell_type": "markdown",
   "metadata": {
    "id": "pvBIb77jWWCk"
   },
   "source": [
    "# 2. Read Data"
   ]
  },
  {
   "cell_type": "code",
   "execution_count": 2,
   "metadata": {
    "colab": {
     "base_uri": "https://localhost:8080/"
    },
    "id": "eSGXoOJ6duE-",
    "outputId": "ef5bf76f-b951-49b0-e8ff-9fadd1844f0e"
   },
   "outputs": [],
   "source": [
    "panel = pd.read_csv(os.path.abspath(\"../input\") + '/panel.csv')\n",
    "survey = pd.read_csv(os.path.abspath(\"../input\") + '/survey.csv')\n",
    "response_train = pd.read_csv(os.path.abspath(\"../input\") + '/response_train.csv')\n",
    "response_test = pd.read_csv(os.path.abspath(\"../input\") + '/response_test.csv')"
   ]
  },
  {
   "cell_type": "markdown",
   "metadata": {
    "id": "L4GOCsuKWWCm"
   },
   "source": [
    "__< 데이터 설명 >__  \n",
    "  \n",
    "* __panel__  \n",
    "  \n",
    "`GENDER` : 성별 - 1:남자 / 2:여자  \n",
    "`REGION` : 지역  \n",
    "`SQ1 ~ DQ7` : 설문조사 질문 설명  \n",
    "  \n",
    "* __Survey__  \n",
    "  \n",
    "`IR` : 난이도(응답가능성, 100이 최고) - 수치가 높으면 난이도가 높음  \n",
    "`LOI` : 설문하는데 걸리는 시간 (분단위)  \n",
    "`CPI` : 패널 응답 리워드 포인트 (1P~)  \n",
    "  \n",
    "* __Response_train__  \n",
    "  \n",
    "`ID` : submission을 식별하기 위한 ID로 사용"
   ]
  },
  {
   "cell_type": "markdown",
   "metadata": {
    "id": "_AYoef--WWCn"
   },
   "source": [
    "# 3. Data Cleansing"
   ]
  },
  {
   "cell_type": "markdown",
   "metadata": {
    "id": "ef9nmjBDWWCo"
   },
   "source": [
    "### panel"
   ]
  },
  {
   "cell_type": "code",
   "execution_count": 3,
   "metadata": {
    "colab": {
     "base_uri": "https://localhost:8080/"
    },
    "id": "1duVNJq0WWCp",
    "outputId": "875aecc5-8c79-48e1-c733-c97b7399b824",
    "scrolled": true
   },
   "outputs": [
    {
     "data": {
      "text/plain": [
       "218809"
      ]
     },
     "execution_count": 3,
     "metadata": {},
     "output_type": "execute_result"
    }
   ],
   "source": [
    "# panel 결측치 개수 확인\n",
    "panel.isna().sum().sum()"
   ]
  },
  {
   "cell_type": "code",
   "execution_count": 4,
   "metadata": {
    "colab": {
     "base_uri": "https://localhost:8080/"
    },
    "id": "HK9B2aFwWWCs",
    "outputId": "279f49e3-7dd2-4f9a-f0b8-d252e7afdcb2"
   },
   "outputs": [
    {
     "data": {
      "text/plain": [
       "1982.0"
      ]
     },
     "execution_count": 4,
     "metadata": {},
     "output_type": "execute_result"
    }
   ],
   "source": [
    "# BIRTH 대체할 결측치 확인\n",
    "panel.BIRTH.value_counts().sort_values(ascending = False).index[0]"
   ]
  },
  {
   "cell_type": "code",
   "execution_count": 5,
   "metadata": {
    "colab": {
     "base_uri": "https://localhost:8080/"
    },
    "id": "WJRVsYKLWWCu",
    "outputId": "9792bf9e-d53f-47e3-b9df-9165c2c7eb1e",
    "scrolled": true
   },
   "outputs": [
    {
     "data": {
      "text/plain": [
       "2.0"
      ]
     },
     "execution_count": 5,
     "metadata": {},
     "output_type": "execute_result"
    }
   ],
   "source": [
    "# GENDER 대체할 결측치 확인\n",
    "panel.GENDER.value_counts().sort_values(ascending = False).index[0]"
   ]
  },
  {
   "cell_type": "code",
   "execution_count": 6,
   "metadata": {
    "colab": {
     "base_uri": "https://localhost:8080/"
    },
    "id": "1FJJrh93WWCw",
    "outputId": "a9fa7ddd-9f88-416a-ec83-65f22ecd1482"
   },
   "outputs": [
    {
     "data": {
      "text/plain": [
       "2.0"
      ]
     },
     "execution_count": 6,
     "metadata": {},
     "output_type": "execute_result"
    }
   ],
   "source": [
    "# REGION 대체할 결측치 확인\n",
    "panel.REGION.value_counts().sort_values(ascending = False).index[0]"
   ]
  },
  {
   "cell_type": "code",
   "execution_count": 7,
   "metadata": {
    "id": "0awfokAYWWCy"
   },
   "outputs": [],
   "source": [
    "# 결측치 처리\n",
    "panel.BIRTH.fillna(panel.BIRTH.value_counts().sort_values(ascending = False).index[0],inplace = True)\n",
    "panel.GENDER.fillna(panel.GENDER.value_counts().sort_values(ascending = False).index[0], inplace = True)\n",
    "panel.REGION.fillna(panel.REGION.value_counts().sort_values(ascending = False).index[0],inplace = True)\n",
    "\n",
    "## 나머지 데이터는 설문조사 결과이므로 0으로 처리\n",
    "panel.fillna(0,inplace = True)"
   ]
  },
  {
   "cell_type": "code",
   "execution_count": 8,
   "metadata": {
    "colab": {
     "base_uri": "https://localhost:8080/"
    },
    "id": "RLKU0IdaWWCz",
    "outputId": "f197de8f-6161-4f21-f6da-b77d82c5dca1"
   },
   "outputs": [
    {
     "data": {
      "text/plain": [
       "0"
      ]
     },
     "execution_count": 8,
     "metadata": {},
     "output_type": "execute_result"
    }
   ],
   "source": [
    "# 결측치 처리 후 확인\n",
    "panel.isna().sum().sum()"
   ]
  },
  {
   "cell_type": "markdown",
   "metadata": {
    "id": "r_6M93ZJWWC0"
   },
   "source": [
    "### 질문 데이터 전처리"
   ]
  },
  {
   "cell_type": "markdown",
   "metadata": {
    "id": "uRhPXlRpctaX"
   },
   "source": [
    "__< 처리 방법 >__  \n",
    "  \n",
    "* ',' , '.' 으로 이루어진 값을 `split`을 통해 응답값 통일화  \n",
    "* 질문 선지에 없는 답이 명시되어 있는 경우 : __-1__  \n",
    "* 멀티값인 경우 : __-2__"
   ]
  },
  {
   "cell_type": "markdown",
   "metadata": {
    "id": "o3eIVxSgWWC1"
   },
   "source": [
    "SQ1 - 성별"
   ]
  },
  {
   "cell_type": "code",
   "execution_count": 9,
   "metadata": {
    "id": "tS-1Tq9lWWC2"
   },
   "outputs": [],
   "source": [
    "# `GENDER`열이 존재하기 때문에 삭제\n",
    "panel = panel.drop(columns = ['SQ1'])"
   ]
  },
  {
   "cell_type": "markdown",
   "metadata": {
    "id": "VI3diJXGWWC3"
   },
   "source": [
    "SQ2 - 출생년도"
   ]
  },
  {
   "cell_type": "code",
   "execution_count": 10,
   "metadata": {
    "id": "OaYiqL1MWWC4"
   },
   "outputs": [],
   "source": [
    "# error로 변환\n",
    "panel.loc[panel['SQ2'] == 1 , 'SQ2'] = -1\n",
    "\n",
    "# BIRTH와 SQ2의 답이 다른 경우 error로 변환\n",
    "panel.loc[panel['SQ2'] != panel['BIRTH'] , 'SQ2'] = -1\n",
    "\n",
    "# int 변환\n",
    "panel['SQ2'] = panel['SQ2'].astype(int)"
   ]
  },
  {
   "cell_type": "markdown",
   "metadata": {
    "id": "eX_FMdr3WWC5"
   },
   "source": [
    "SQ3 - 사는 지역"
   ]
  },
  {
   "cell_type": "code",
   "execution_count": 11,
   "metadata": {
    "id": "ZRKK87qYWWC6"
   },
   "outputs": [],
   "source": [
    "panel['SQ3'] = panel['SQ3'].astype(str)\n",
    "panel['SQ3'] = panel.SQ3.apply(lambda x : x.split('.')[0] if '.' in x else x).apply(lambda x : x.split(',')[0] if ',' in x else x)\n",
    "panel['SQ3'] = panel['SQ3'].astype(int)"
   ]
  },
  {
   "cell_type": "markdown",
   "metadata": {
    "id": "SmTmv-OHWWC7"
   },
   "source": [
    "SQ4 - 사는 곳 유형"
   ]
  },
  {
   "cell_type": "code",
   "execution_count": 12,
   "metadata": {
    "id": "ERj8ygpCctag"
   },
   "outputs": [],
   "source": [
    "# SQ4 질문의 답\n",
    "lst_SQ4 = list(np.arange(0,7,1).astype(str));lst_SQ4.append('97');lst_SQ4.append('-2')"
   ]
  },
  {
   "cell_type": "code",
   "execution_count": 13,
   "metadata": {
    "id": "JHzhrgHRctah"
   },
   "outputs": [],
   "source": [
    "panel['SQ4'] = panel['SQ4'].astype(str)\n",
    "panel['SQ4'] = panel.SQ4.apply(lambda x : x.split(',')[0] if x.split(',')[0] == '97' else x).apply(lambda x : x.split(',')[0] if len(x) < 3 else x).apply(lambda x : x if x in lst_SQ4 else -1)\n",
    "panel['SQ4'] = panel['SQ4'].astype(int)"
   ]
  },
  {
   "cell_type": "markdown",
   "metadata": {
    "id": "Jszt2MbnWWC9"
   },
   "source": [
    "SQ5 - 최종학력"
   ]
  },
  {
   "cell_type": "code",
   "execution_count": 14,
   "metadata": {
    "id": "IGTx6OXHctai"
   },
   "outputs": [],
   "source": [
    "# SQ5 질문의 답\n",
    "lst_SQ5 = list(np.arange(0,5,1).astype(str))"
   ]
  },
  {
   "cell_type": "code",
   "execution_count": 15,
   "metadata": {
    "id": "JM0lWjWmWWC9"
   },
   "outputs": [],
   "source": [
    "panel['SQ5'] = panel['SQ5'].astype(str)\n",
    "panel['SQ5'] = panel.SQ5.apply(lambda x : x if x in lst_SQ5  else '-1')\n",
    "panel['SQ5'] = panel['SQ5'].astype(int)"
   ]
  },
  {
   "cell_type": "markdown",
   "metadata": {
    "id": "OoKjUEVNWWC_"
   },
   "source": [
    "SQ6 - 결혼 유무"
   ]
  },
  {
   "cell_type": "code",
   "execution_count": 16,
   "metadata": {
    "id": "bf08lV9dctaj"
   },
   "outputs": [],
   "source": [
    "# SQ6 질문의 답\n",
    "lst_SQ6 = list(np.arange(0,3,1).astype(str));lst_SQ6.append('97');lst_SQ6.append('-2')"
   ]
  },
  {
   "cell_type": "code",
   "execution_count": 17,
   "metadata": {
    "id": "9gl3RbOEWWDB"
   },
   "outputs": [],
   "source": [
    "panel['SQ6'] = panel['SQ6'].astype(str)\n",
    "panel['SQ6'] = panel.SQ6.apply(lambda x : x.split(',')[0] if x.split(',')[0] == '97' else x).apply(lambda x : x.split(',')[0] if len(x) <= 5 else x).apply(lambda x : x if x in lst_SQ6 else -1)\n",
    "panel['SQ6'] = panel['SQ6'].astype(int)"
   ]
  },
  {
   "cell_type": "markdown",
   "metadata": {
    "id": "QowVhXHrWWDC"
   },
   "source": [
    "SQ7 - 자녀 나이"
   ]
  },
  {
   "cell_type": "code",
   "execution_count": 18,
   "metadata": {
    "id": "CazwjerJctal"
   },
   "outputs": [],
   "source": [
    "# SQ7 질문의 답\n",
    "lst_SQ7 = list(np.arange(0,17,1).astype(str));lst_SQ7.append('99')"
   ]
  },
  {
   "cell_type": "code",
   "execution_count": 19,
   "metadata": {
    "id": "aJF-mDVTctam"
   },
   "outputs": [],
   "source": [
    "panel['SQ7'] = panel['SQ7'].astype(str)\n",
    "panel['SQ7'] = panel.SQ7.apply(lambda x : x.split('.')[0] if x.split('.')[0] == '99' else x).apply(lambda x : x.split('.')[0] if x.split('.')[0] in lst_SQ7 else x).apply(lambda x : x if x in lst_SQ7 else -1)\n",
    "panel['SQ7'] = panel['SQ7'].astype(int)"
   ]
  },
  {
   "cell_type": "markdown",
   "metadata": {
    "id": "bNG9gGnLWWDD"
   },
   "source": [
    "SQ8 - 가족 수"
   ]
  },
  {
   "cell_type": "code",
   "execution_count": 20,
   "metadata": {
    "id": "9fYoODyoctan"
   },
   "outputs": [],
   "source": [
    "# SQ8 질문의 답\n",
    "lst_SQ8 = list(np.arange(0,6,1).astype(str))"
   ]
  },
  {
   "cell_type": "code",
   "execution_count": 21,
   "metadata": {
    "id": "eV9VCto9WWDE"
   },
   "outputs": [],
   "source": [
    "panel['SQ8'] = panel['SQ8'].astype(str)\n",
    "panel['SQ8'] = panel.SQ8.apply(lambda x : x if x in lst_SQ8 else '-1')\n",
    "panel['SQ8'] = panel['SQ8'].astype(int)"
   ]
  },
  {
   "cell_type": "markdown",
   "metadata": {
    "id": "oiNgs4gJctao"
   },
   "source": [
    "A1 - 최근 1년이내 구입한 가전제품 __(multi)__"
   ]
  },
  {
   "cell_type": "code",
   "execution_count": 22,
   "metadata": {
    "id": "BrrSQ9vactap"
   },
   "outputs": [],
   "source": [
    "# A1 질문의 답\n",
    "lst_A1 = list(np.arange(0,23,1).astype(str));lst_A1.append('99');lst_A1.append('-2')"
   ]
  },
  {
   "cell_type": "code",
   "execution_count": 23,
   "metadata": {
    "id": "xvhpFkjjctap"
   },
   "outputs": [],
   "source": [
    "panel['A1'] = panel['A1'].astype(str)\n",
    "panel['A1'] = panel.A1.apply(lambda x : x.split('.')[0] if x.split('.')[0] in lst_A1 and len(x) <= 3 else x).apply(lambda x : -2 if len(x) >=3 else x).apply(lambda x : x if x in lst_A1 else '-1')\n",
    "panel['A1'] = panel['A1'].astype(int)"
   ]
  },
  {
   "cell_type": "markdown",
   "metadata": {
    "id": "5Bdv8uM-ctaq"
   },
   "source": [
    "B1 - 휴대폰 인터넷 통신망  \n",
    "  "
   ]
  },
  {
   "cell_type": "code",
   "execution_count": 24,
   "metadata": {
    "colab": {
     "base_uri": "https://localhost:8080/"
    },
    "id": "b1i9CTd9BSE3",
    "outputId": "1262f418-9ede-4140-e2ca-87b142863b4f"
   },
   "outputs": [
    {
     "data": {
      "text/plain": [
       "0               3598\n",
       "4               3134\n",
       "1               2706\n",
       "99              1720\n",
       "8               1642\n",
       "                ... \n",
       "97,모르겠다            1\n",
       "1,10,2,3,4,6       1\n",
       "1,6                1\n",
       "10,4,7             1\n",
       "10,3               1\n",
       "Name: B1, Length: 119, dtype: int64"
      ]
     },
     "execution_count": 24,
     "metadata": {},
     "output_type": "execute_result"
    }
   ],
   "source": [
    "panel.B1.value_counts()"
   ]
  },
  {
   "cell_type": "code",
   "execution_count": 25,
   "metadata": {
    "id": "qee72Hgvctaq"
   },
   "outputs": [],
   "source": [
    "# B1에 해당하는 답들이 아니라고 판단하여 삭제\n",
    "panel = panel.drop(columns = ['B1'])"
   ]
  },
  {
   "cell_type": "markdown",
   "metadata": {
    "id": "wpiuzjPyctar"
   },
   "source": [
    "B2 - 휴대폰 통신사  \n"
   ]
  },
  {
   "cell_type": "code",
   "execution_count": 26,
   "metadata": {
    "colab": {
     "base_uri": "https://localhost:8080/"
    },
    "id": "dhY1flR2BSE6",
    "outputId": "5f568bd0-1561-418b-b2ea-07c616e34d3d"
   },
   "outputs": [
    {
     "data": {
      "text/plain": [
       "0              3981\n",
       "1              3869\n",
       "3              1765\n",
       "99             1360\n",
       "2              1311\n",
       "               ... \n",
       "97,모르겠다           1\n",
       "97,알페온            1\n",
       "97,저도 뚜벅이..       1\n",
       "6,97              1\n",
       "97,그랜져            1\n",
       "Name: B2, Length: 109, dtype: int64"
      ]
     },
     "execution_count": 26,
     "metadata": {},
     "output_type": "execute_result"
    }
   ],
   "source": [
    "panel.B2.value_counts()"
   ]
  },
  {
   "cell_type": "code",
   "execution_count": 27,
   "metadata": {
    "id": "kW-oMglsctar"
   },
   "outputs": [],
   "source": [
    "# B2에 해당하는 답들이 아니라고 판단하여 삭제\n",
    "panel = panel.drop(columns = ['B2'])"
   ]
  },
  {
   "cell_type": "markdown",
   "metadata": {
    "id": "DxEpsV_actas"
   },
   "source": [
    "B3 - 휴대폰 제조사  "
   ]
  },
  {
   "cell_type": "code",
   "execution_count": 28,
   "metadata": {
    "id": "jOq5WJhuctas"
   },
   "outputs": [],
   "source": [
    "# B3 질문의 답\n",
    "lst_B3 = list(np.arange(0,8,1).astype(str));lst_B3.append('99');lst_B3.append('-2');lst_B3.append('97')"
   ]
  },
  {
   "cell_type": "code",
   "execution_count": 29,
   "metadata": {
    "id": "bV_sVS11ctat"
   },
   "outputs": [],
   "source": [
    "panel['B3'] = panel['B3'].astype(str)\n",
    "\n",
    "# 9997 -> 현재 사용 중인 휴대폰 없음으로 처리\n",
    "panel.loc[panel['B3'] == '9997', 'B3'] == '99'\n",
    "panel['B3'] = panel.B3.apply(lambda x : x.split(',')[0] if x.split(',')[0] == '97' else x).apply(lambda x : -1 if len(x) >=3 else x).apply(lambda x : x if x in lst_B3 else '-1')\n",
    "panel['B3'] = panel['B3'].astype(int)"
   ]
  },
  {
   "cell_type": "markdown",
   "metadata": {
    "id": "1ICMS5dBctat"
   },
   "source": [
    "B4 - 사용하는 스마트 기기 __(multi)__"
   ]
  },
  {
   "cell_type": "code",
   "execution_count": 30,
   "metadata": {
    "id": "Ot-RzgVDctat"
   },
   "outputs": [],
   "source": [
    "# B4 질문의 답\n",
    "lst_B4 = list(np.arange(0,9,1).astype(str));lst_B4.append('99');lst_B4.append('-2');lst_B4.append('97')"
   ]
  },
  {
   "cell_type": "code",
   "execution_count": 31,
   "metadata": {
    "id": "KC3Q_F45ctau"
   },
   "outputs": [],
   "source": [
    "panel['B4'] = panel['B4'].astype(str)\n",
    "panel['B4'] =panel.B4.apply(lambda x : x.split(',')[0] if x.split(',')[0] == '97' else x).apply(lambda x : '-2' if len(x) >=3 else x).apply(lambda x : x if x in lst_B4 else '-1')\n",
    "panel['B4'] = panel['B4'].astype(int)"
   ]
  },
  {
   "cell_type": "markdown",
   "metadata": {
    "id": "oX0ZFFlFctau"
   },
   "source": [
    "B5 - TV 케이블 망"
   ]
  },
  {
   "cell_type": "code",
   "execution_count": 32,
   "metadata": {
    "id": "0iJDVECFctav"
   },
   "outputs": [],
   "source": [
    "# B5 질문의 답\n",
    "lst_B5 = list(np.arange(0,11,1).astype(str));lst_B5.append('99');lst_B5.append('-2');lst_B5.append('97')"
   ]
  },
  {
   "cell_type": "code",
   "execution_count": 33,
   "metadata": {
    "id": "GGPPxY-nctav"
   },
   "outputs": [],
   "source": [
    "panel['B5'] = panel['B5'].astype(str)\n",
    "panel['B5'] =panel.B5.apply(lambda x : x.split(',')[0] if x.split(',')[0] == '97' else x).apply(lambda x : x.split(',')[0] if x.split(',')[0] in lst_B5 and len(x) <= 3 else x).apply(lambda x : x if x in lst_B5 else '-1')\n",
    "panel['B5'] = panel['B5'].astype(int)"
   ]
  },
  {
   "cell_type": "markdown",
   "metadata": {
    "id": "d4FQRY2ictav"
   },
   "source": [
    "C1 - 가입 보험 종류 __(multi)__"
   ]
  },
  {
   "cell_type": "code",
   "execution_count": 34,
   "metadata": {
    "id": "zl4KzxX9ctaw"
   },
   "outputs": [],
   "source": [
    "# C1 질문의 답\n",
    "lst_C1 = list(np.arange(0,16,1).astype(str));lst_C1.append('99');lst_C1.append('-2')"
   ]
  },
  {
   "cell_type": "code",
   "execution_count": 35,
   "metadata": {
    "id": "t4qjSLjUctaw"
   },
   "outputs": [],
   "source": [
    "panel['C1'] = panel['C1'].astype(str)\n",
    "panel['C1'] =panel.C1.apply(lambda x : x.split(',')[0] if x.split(',')[0] == '99' else x).apply(lambda x : x.split(',')[0] if x.split(',')[0] in lst_C1 and len(x) <= 3 else x).apply(lambda x : '-2' if len(x) >=3 else x).apply(lambda x : x if x in lst_C1 else '-1')\n",
    "panel['C1'] = panel['C1'].astype(int)"
   ]
  },
  {
   "cell_type": "markdown",
   "metadata": {
    "id": "oJordW3Pctax"
   },
   "source": [
    "C2 - 주 거래 은행"
   ]
  },
  {
   "cell_type": "code",
   "execution_count": 36,
   "metadata": {
    "id": "D7TE7jrPctax"
   },
   "outputs": [],
   "source": [
    "# C2 질문의 답\n",
    "lst_C2 = list(np.arange(0,15,1).astype(str));lst_C2.append('97')"
   ]
  },
  {
   "cell_type": "code",
   "execution_count": 37,
   "metadata": {
    "id": "hWq2MOVKctay"
   },
   "outputs": [],
   "source": [
    "panel['C2'] = panel['C2'].astype(str)\n",
    "panel['C2'] =panel.C2.apply(lambda x : x.split(',')[0] if x.split(',')[0] == '97' else x).apply(lambda x : x.split(',')[0] if x.split(',')[0] in lst_C2 and len(x) <= 3 else x).apply(lambda x : x if x in lst_C2 else '-1')\n",
    "panel['C2'] = panel['C2'].astype(int)"
   ]
  },
  {
   "cell_type": "markdown",
   "metadata": {
    "id": "_VZQQXQectay"
   },
   "source": [
    "C3 - 사용중인 간편결제서비스 __(multi)__"
   ]
  },
  {
   "cell_type": "code",
   "execution_count": 38,
   "metadata": {
    "id": "nFb9VOb6ctay"
   },
   "outputs": [],
   "source": [
    "# C3 질문의 답\n",
    "lst_C3 = list(np.arange(0,11,1).astype(str));lst_C3.append('97');lst_C3.append('99');lst_C3.append('-2')"
   ]
  },
  {
   "cell_type": "code",
   "execution_count": 39,
   "metadata": {
    "id": "-CzzeaG3ctay"
   },
   "outputs": [],
   "source": [
    "panel['C3'] = panel['C3'].astype(str)\n",
    "panel['C3'] =panel.C3.apply(lambda x : x.split(',')[0] if x.split(',')[0] == '97' else x).apply(lambda x : x.split(',')[0] if x.split(',')[0] in lst_C3 and len(x) <= 3 else x).apply(lambda x : '-2' if len(x) >=3 else x).apply(lambda x : x if x in lst_C3 else '-1')\n",
    "panel['C3'] = panel['C3'].astype(int)"
   ]
  },
  {
   "cell_type": "markdown",
   "metadata": {
    "id": "YTFvuftHctaz"
   },
   "source": [
    "F1 - 주로 이용하는 대형할인마트"
   ]
  },
  {
   "cell_type": "code",
   "execution_count": 40,
   "metadata": {
    "id": "BIrSfNPLctaz"
   },
   "outputs": [],
   "source": [
    "# F1 질문의 답\n",
    "lst_F1 = list(np.arange(0,11,1).astype(str));lst_F1.append('97');lst_F1.append('99')"
   ]
  },
  {
   "cell_type": "code",
   "execution_count": 41,
   "metadata": {
    "id": "pzLzVjSGctaz"
   },
   "outputs": [],
   "source": [
    "panel['F1'] = panel['F1'].astype(str)\n",
    "panel['F1'] =panel.F1.apply(lambda x : x.split(',')[0] if x.split(',')[0] == '97' else x).apply(lambda x : x.split(',')[0] if x.split(',')[0] in lst_F1 and len(x) <= 3 else x).apply(lambda x : x if x in lst_F1 else '-1')\n",
    "panel['F1'] = panel['F1'].astype(int)"
   ]
  },
  {
   "cell_type": "markdown",
   "metadata": {
    "id": "USJjmzNYcta0"
   },
   "source": [
    "F2 - 주로 이용하는 온라인 대형할인마트"
   ]
  },
  {
   "cell_type": "code",
   "execution_count": 42,
   "metadata": {
    "id": "7EsGrbcXcta0"
   },
   "outputs": [],
   "source": [
    "# F2 질문의 답\n",
    "lst_F2 = list(np.arange(0,6,1).astype(str));lst_F2.append('97');lst_F2.append('99')"
   ]
  },
  {
   "cell_type": "code",
   "execution_count": 43,
   "metadata": {
    "id": "HQP-NJ7ncta0"
   },
   "outputs": [],
   "source": [
    "panel['F2'] = panel['F2'].astype(str)\n",
    "panel['F2'] =panel.F2.apply(lambda x : x.split(',')[0] if x.split(',')[0] == '97' else x).apply(lambda x : x.split(',')[0] if x.split(',')[0] in lst_F2 and len(x) <= 3 else x).apply(lambda x : x if x in lst_F2 else '-1')\n",
    "panel['F2'] = panel['F2'].astype(int)"
   ]
  },
  {
   "cell_type": "markdown",
   "metadata": {
    "id": "SzX8kFAecta0"
   },
   "source": [
    "H1 - 3개월간 음용한 주류"
   ]
  },
  {
   "cell_type": "code",
   "execution_count": 44,
   "metadata": {
    "id": "5jRRNb6Scta1"
   },
   "outputs": [],
   "source": [
    "# H1 질문의 답\n",
    "lst_H1 = list(np.arange(0,12,1).astype(str));lst_H1.append('97');lst_H1.append('99')"
   ]
  },
  {
   "cell_type": "code",
   "execution_count": 45,
   "metadata": {
    "id": "i0qdiomkcta1"
   },
   "outputs": [],
   "source": [
    "panel['H1'] = panel['H1'].astype(str)\n",
    "panel['H1'] =panel.H1.apply(lambda x : '-2' if len(x) >=3 else x).apply(lambda x : x if x in lst_H1 else '-1')\n",
    "panel['H1'] = panel['H1'].astype(int)"
   ]
  },
  {
   "cell_type": "markdown",
   "metadata": {
    "id": "FA8C0dPJcta2"
   },
   "source": [
    "T1 - 피우는 담배 브랜드"
   ]
  },
  {
   "cell_type": "code",
   "execution_count": 46,
   "metadata": {
    "id": "3qOTwZoIcta3"
   },
   "outputs": [],
   "source": [
    "# T1 질문의 답\n",
    "lst_T1 = list(np.arange(0,34,1).astype(str));lst_T1.append('971');lst_T1.append('972');lst_T1.append('99')"
   ]
  },
  {
   "cell_type": "code",
   "execution_count": 47,
   "metadata": {
    "id": "iT-SNuUscta3"
   },
   "outputs": [],
   "source": [
    "panel['T1'] = panel['T1'].astype(str)\n",
    "\n",
    "# 9997 -> 담배 피우지 않음으로 처리\n",
    "panel.loc[panel['T1'] == '9997', 'T1'] == '99'\n",
    "panel['T1'] =panel.T1.apply(lambda x : x.split(',')[0] if x.split(',')[0] == '971' else x).apply(lambda x : x.split(',')[0] if x.split(',')[0] == '972' else x).apply(lambda x : x.split(',')[0] if x.split(',')[0] in lst_T1 else x).apply(lambda x : x if x in lst_T1 else '-1')\n",
    "panel['T1'] = panel['T1'].astype(int)"
   ]
  },
  {
   "cell_type": "markdown",
   "metadata": {
    "id": "aChNISoxcta4"
   },
   "source": [
    "X1 - 주로 운전하는 자동차의 제조사"
   ]
  },
  {
   "cell_type": "code",
   "execution_count": 48,
   "metadata": {
    "id": "BAH-N0pYcta4"
   },
   "outputs": [],
   "source": [
    "# X1 질문의 답\n",
    "lst_X1 = list(np.arange(0,26,1).astype(str));lst_X1.append('97');lst_X1.append('99')"
   ]
  },
  {
   "cell_type": "code",
   "execution_count": 49,
   "metadata": {
    "id": "NlwpjD9Ycta4"
   },
   "outputs": [],
   "source": [
    "panel['X1'] = panel['X1'].astype(str)\n",
    "panel['X1'] =panel.X1.apply(lambda x : x.split(',')[0] if x.split(',')[0] == '97' else x).apply(lambda x : x.split(',')[0] if x.split(',')[0] in lst_X1 else x).apply(lambda x : x if x in lst_X1 else '-1')\n",
    "panel['X1'] = panel['X1'].astype(int)"
   ]
  },
  {
   "cell_type": "markdown",
   "metadata": {
    "id": "WG27RvEScta5"
   },
   "source": [
    "X2 - 자동차 구매 형태"
   ]
  },
  {
   "cell_type": "code",
   "execution_count": 50,
   "metadata": {
    "colab": {
     "base_uri": "https://localhost:8080/"
    },
    "id": "Tk1IiujhBSGL",
    "outputId": "8f6b0191-cc25-44b2-aefb-dd5c04b20024"
   },
   "outputs": [
    {
     "data": {
      "text/plain": [
       "0          8799\n",
       "1.0        2186\n",
       "99.0       1119\n",
       "2.0         629\n",
       "1           469\n",
       "4.0         459\n",
       "3.0         429\n",
       "5.0         406\n",
       "6.0         367\n",
       "11.0        237\n",
       "7.0         217\n",
       "8.0         186\n",
       "9.0         180\n",
       "2           109\n",
       "10.0         88\n",
       "99           86\n",
       "21.0         64\n",
       "12.0         42\n",
       "4            38\n",
       "5            38\n",
       "16.0         37\n",
       "1.0          31\n",
       "20.0         28\n",
       "13.0         28\n",
       "6            27\n",
       "8            24\n",
       "14.0         23\n",
       "19.0         22\n",
       "97.0         21\n",
       "3            21\n",
       "7            19\n",
       "98.0         18\n",
       "17.0         13\n",
       "6.0          12\n",
       "99.0         10\n",
       "15.0          9\n",
       "2.0           8\n",
       "3.0           7\n",
       "98            7\n",
       "11            7\n",
       "9             7\n",
       "18.0          6\n",
       "4.0           5\n",
       "5.0           4\n",
       "7.0           3\n",
       "10            3\n",
       "12            3\n",
       "21.0          2\n",
       "8.0           2\n",
       "22.0          2\n",
       "14            1\n",
       "9.0           1\n",
       "10.0          1\n",
       "11.0          1\n",
       "14.0          1\n",
       "97,프리랜서       1\n",
       "Name: X2, dtype: int64"
      ]
     },
     "execution_count": 50,
     "metadata": {},
     "output_type": "execute_result"
    }
   ],
   "source": [
    "panel.X2.value_counts()"
   ]
  },
  {
   "cell_type": "code",
   "execution_count": 51,
   "metadata": {
    "id": "Ty3xFX2kcta5"
   },
   "outputs": [],
   "source": [
    "# X2에 해당하는 답들이 아니라고 판단하여 삭제\n",
    "panel = panel.drop(columns = ['X2'])"
   ]
  },
  {
   "cell_type": "markdown",
   "metadata": {
    "id": "t5ZwYNzMcta5"
   },
   "source": [
    "X3 - 자주 이용하는 주유소"
   ]
  },
  {
   "cell_type": "code",
   "execution_count": 52,
   "metadata": {
    "id": "JPogue44cta6"
   },
   "outputs": [],
   "source": [
    "# X3 질문의 답\n",
    "lst_X3 = list(np.arange(0,9,1).astype(str));lst_X3.append('97');lst_X3.append('99')"
   ]
  },
  {
   "cell_type": "code",
   "execution_count": 53,
   "metadata": {
    "id": "xMEYtI9zcta6"
   },
   "outputs": [],
   "source": [
    "panel['X3'] = panel['X3'].astype(str)\n",
    "panel['X3'] =panel.X3.apply(lambda x : x.split(',')[0] if x.split(',')[0] == '97' else x).apply(lambda x : x.split(',')[0] if x.split(',')[0] in lst_X3 else x).apply(lambda x : x if x in lst_X3 else '-1')\n",
    "panel['X3'] = panel['X3'].astype(int)"
   ]
  },
  {
   "cell_type": "markdown",
   "metadata": {
    "id": "d6tQm6Bkcta7"
   },
   "source": [
    "X4 - 주 자동차 연료 타입"
   ]
  },
  {
   "cell_type": "code",
   "execution_count": 54,
   "metadata": {
    "id": "ui48kh4ncta8"
   },
   "outputs": [],
   "source": [
    "# X4 질문의 답\n",
    "lst_X4 = list(np.arange(0,5,1).astype(str));lst_X4.append('97');lst_X4.append('99')"
   ]
  },
  {
   "cell_type": "code",
   "execution_count": 55,
   "metadata": {
    "id": "d_Al374scta9"
   },
   "outputs": [],
   "source": [
    "panel['X4'] = panel['X4'].astype(str)\n",
    "panel['X4'] =panel.X4.apply(lambda x : x.split(',')[0] if x.split(',')[0] == '97' else x).apply(lambda x : x.split('.')[0] if x.split('.')[0] in lst_X4 else x).apply(lambda x : x if x in lst_X4 else '-1')\n",
    "panel['X4'] = panel['X4'].astype(int)"
   ]
  },
  {
   "cell_type": "markdown",
   "metadata": {
    "id": "CIfEywawcta-"
   },
   "source": [
    "DQ1 - 직업"
   ]
  },
  {
   "cell_type": "code",
   "execution_count": 56,
   "metadata": {
    "id": "RZ8Erg_qcta_"
   },
   "outputs": [],
   "source": [
    "# DQ1 질문의 답\n",
    "lst_DQ1 = list(np.arange(0,16,1).astype(str));lst_DQ1.append('97');lst_DQ1.append('99')"
   ]
  },
  {
   "cell_type": "code",
   "execution_count": 57,
   "metadata": {
    "id": "CXBRrLMbcta_"
   },
   "outputs": [],
   "source": [
    "panel['DQ1'] = panel['DQ1'].astype(str)\n",
    "panel['DQ1'] =panel.DQ1.apply(lambda x : x.split(',')[0] if x.split(',')[0] == '97' else x).apply(lambda x : x.split(',')[0] if x.split(',')[0] in lst_DQ1 else x).apply(lambda x : x if x in lst_DQ1 else '-1')\n",
    "panel['DQ1'] = panel['DQ1'].astype(int)"
   ]
  },
  {
   "cell_type": "markdown",
   "metadata": {
    "id": "lQiNOTWTcta_"
   },
   "source": [
    "DQ2 - 근무하는 직종"
   ]
  },
  {
   "cell_type": "code",
   "execution_count": 58,
   "metadata": {
    "id": "ORXYPDjkctbA"
   },
   "outputs": [],
   "source": [
    "# DQ2 질문의 답\n",
    "lst_DQ2 = list(np.arange(0,23,1).astype(str));lst_DQ2.append('97');lst_DQ2.append('99')"
   ]
  },
  {
   "cell_type": "code",
   "execution_count": 59,
   "metadata": {
    "id": "Js_W0u7SctbA"
   },
   "outputs": [],
   "source": [
    "panel['DQ2'] = panel['DQ2'].astype(str)\n",
    "panel['DQ2'] =panel.DQ2.apply(lambda x : x.split(',')[0] if x.split(',')[0] == '97' else x).apply(lambda x : x.split(',')[0] if x.split(',')[0] in lst_DQ2 else x).apply(lambda x : x if x in lst_DQ2 else '-1')\n",
    "panel['DQ2'] = panel['DQ2'].astype(int)"
   ]
  },
  {
   "cell_type": "markdown",
   "metadata": {
    "id": "YGVedtoectbA"
   },
   "source": [
    "DQ3 - 회사에서 담당하고 있는 직무분야"
   ]
  },
  {
   "cell_type": "code",
   "execution_count": 60,
   "metadata": {
    "id": "E-zUcUnfctbA"
   },
   "outputs": [],
   "source": [
    "# DQ3 질문의 답\n",
    "lst_DQ3 = list(np.arange(0,22,1).astype(str));lst_DQ3.append('97');lst_DQ3.append('99')"
   ]
  },
  {
   "cell_type": "code",
   "execution_count": 61,
   "metadata": {
    "id": "_ae2wfwCctbB"
   },
   "outputs": [],
   "source": [
    "panel['DQ3'] = panel['DQ3'].astype(str)\n",
    "panel['DQ3'] =panel.DQ3.apply(lambda x : x.split(',')[0] if x.split(',')[0] == '97' else x).apply(lambda x : x.split('.')[0] if x.split('.')[0] in lst_DQ3 else x).apply(lambda x : x if x in lst_DQ3 else '-1')\n",
    "panel['DQ3'] = panel['DQ3'].astype(int)"
   ]
  },
  {
   "cell_type": "markdown",
   "metadata": {
    "id": "-TTMFvv8ctbB"
   },
   "source": [
    "DQ4 - 직장에서 직급"
   ]
  },
  {
   "cell_type": "code",
   "execution_count": 62,
   "metadata": {
    "id": "0O0EOyXlctbB"
   },
   "outputs": [],
   "source": [
    "# DQ4 질문의 답\n",
    "lst_DQ4 = list(np.arange(0,8,1).astype(str));lst_DQ4.append('97');lst_DQ4.append('99')"
   ]
  },
  {
   "cell_type": "code",
   "execution_count": 63,
   "metadata": {
    "id": "Vvyv723GctbB"
   },
   "outputs": [],
   "source": [
    "panel['DQ4'] = panel['DQ4'].astype(str)\n",
    "panel['DQ4'] =panel.DQ4.apply(lambda x : x.split(',')[0] if x.split(',')[0] == '97' else x).apply(lambda x : x.split(',')[0] if x.split(',')[0] in lst_DQ4 else x).apply(lambda x : x if x in lst_DQ4 else '-1')\n",
    "panel['DQ4'] = panel['DQ4'].astype(int)"
   ]
  },
  {
   "cell_type": "markdown",
   "metadata": {
    "id": "-4PwI0HSctbC"
   },
   "source": [
    "DQ5 - 회사의 규모"
   ]
  },
  {
   "cell_type": "code",
   "execution_count": 64,
   "metadata": {
    "id": "G_ZhOihLctbC"
   },
   "outputs": [],
   "source": [
    "panel['DQ5'] = panel['DQ5'].astype(int)"
   ]
  },
  {
   "cell_type": "markdown",
   "metadata": {
    "id": "Dv1XwoErctbC"
   },
   "source": [
    "DQ6 - 한달 평균 가구소득"
   ]
  },
  {
   "cell_type": "code",
   "execution_count": 65,
   "metadata": {
    "id": "yDf-_L5rctbD"
   },
   "outputs": [],
   "source": [
    "panel['DQ6'] = panel['DQ6'].astype(int)"
   ]
  },
  {
   "cell_type": "markdown",
   "metadata": {
    "id": "Mt7fsRa0ctbD"
   },
   "source": [
    "DQ7 - 고용 형태"
   ]
  },
  {
   "cell_type": "code",
   "execution_count": 66,
   "metadata": {
    "id": "A3f4gj1nctbD"
   },
   "outputs": [],
   "source": [
    "panel['DQ7'] = panel['DQ7'].astype(int)"
   ]
  },
  {
   "cell_type": "markdown",
   "metadata": {
    "id": "hxOSyDhAWWDG"
   },
   "source": [
    "### survey"
   ]
  },
  {
   "cell_type": "code",
   "execution_count": 67,
   "metadata": {
    "colab": {
     "base_uri": "https://localhost:8080/"
    },
    "id": "DqnzoKtWWWDG",
    "outputId": "dce70646-a445-43a8-c1d2-424bf81e7424"
   },
   "outputs": [
    {
     "data": {
      "text/plain": [
       "surveyID         0\n",
       "TITLE            0\n",
       "IR               0\n",
       "LOI              0\n",
       "CATEGORIES    5027\n",
       "CPI              0\n",
       "dtype: int64"
      ]
     },
     "execution_count": 67,
     "metadata": {},
     "output_type": "execute_result"
    }
   ],
   "source": [
    "survey.isna().sum()"
   ]
  },
  {
   "cell_type": "code",
   "execution_count": 68,
   "metadata": {
    "id": "ko69W4HpWWDH"
   },
   "outputs": [],
   "source": [
    "# CATEGORIES 열은 의미가 없다고 판단되어 삭제\n",
    "survey.drop(columns  = 'CATEGORIES',inplace = True)"
   ]
  },
  {
   "cell_type": "code",
   "execution_count": 69,
   "metadata": {
    "colab": {
     "base_uri": "https://localhost:8080/"
    },
    "id": "ooTzTIEyWWDH",
    "outputId": "f7e4093d-ed0e-49d1-95b4-3dbec0ebe6a9"
   },
   "outputs": [
    {
     "name": "stdout",
     "output_type": "stream",
     "text": [
      "<class 'pandas.core.frame.DataFrame'>\n",
      "RangeIndex: 5976 entries, 0 to 5975\n",
      "Data columns (total 5 columns):\n",
      " #   Column    Non-Null Count  Dtype  \n",
      "---  ------    --------------  -----  \n",
      " 0   surveyID  5976 non-null   object \n",
      " 1   TITLE     5976 non-null   object \n",
      " 2   IR        5976 non-null   int64  \n",
      " 3   LOI       5976 non-null   int64  \n",
      " 4   CPI       5976 non-null   float64\n",
      "dtypes: float64(1), int64(2), object(2)\n",
      "memory usage: 233.6+ KB\n"
     ]
    }
   ],
   "source": [
    "survey.info()"
   ]
  },
  {
   "cell_type": "markdown",
   "metadata": {
    "id": "0TygoawGWWDI"
   },
   "source": [
    "### response_train"
   ]
  },
  {
   "cell_type": "code",
   "execution_count": 70,
   "metadata": {
    "colab": {
     "base_uri": "https://localhost:8080/"
    },
    "id": "6Qe5FzAFWWDI",
    "outputId": "78d21076-09ef-4561-f345-714e67a2f517"
   },
   "outputs": [
    {
     "data": {
      "text/plain": [
       "userID      0\n",
       "surveyID    0\n",
       "TIME        0\n",
       "STATUS      0\n",
       "dtype: int64"
      ]
     },
     "execution_count": 70,
     "metadata": {},
     "output_type": "execute_result"
    }
   ],
   "source": [
    "response_train.isna().sum()"
   ]
  },
  {
   "cell_type": "markdown",
   "metadata": {
    "id": "eU1n88UhWWDI"
   },
   "source": [
    "### response_test"
   ]
  },
  {
   "cell_type": "code",
   "execution_count": 71,
   "metadata": {
    "colab": {
     "base_uri": "https://localhost:8080/"
    },
    "id": "v93CrxR0WWDI",
    "outputId": "35fe0f61-ed19-494c-ceb4-fcf151983456",
    "scrolled": false
   },
   "outputs": [
    {
     "data": {
      "text/plain": [
       "ID          0\n",
       "userID      0\n",
       "surveyID    0\n",
       "TIME        0\n",
       "dtype: int64"
      ]
     },
     "execution_count": 71,
     "metadata": {},
     "output_type": "execute_result"
    }
   ],
   "source": [
    "response_test.isna().sum()"
   ]
  },
  {
   "cell_type": "markdown",
   "metadata": {
    "id": "orFYY4wQWWDJ"
   },
   "source": [
    "### Merge Data"
   ]
  },
  {
   "cell_type": "code",
   "execution_count": 72,
   "metadata": {
    "colab": {
     "base_uri": "https://localhost:8080/"
    },
    "id": "zm0TH_fw4wxU",
    "outputId": "b694176d-4fcf-40d1-e411-fb2b8bcf988e"
   },
   "outputs": [
    {
     "name": "stdout",
     "output_type": "stream",
     "text": [
      "userID // 0.0\n",
      "BIRTH // 0.0\n",
      "GENDER // 0.0\n",
      "REGION // 0.0\n",
      "TYPE // 0.0\n",
      "SQ2 // 0.0\n",
      "SQ3 // 0.09690273501177323\n",
      "SQ4 // 0.0973253637626034\n",
      "SQ5 // 0.15190484815552738\n",
      "SQ6 // 0.15220672583469178\n",
      "SQ7 // 0.1849906417919459\n",
      "SQ8 // 0.18728491215359536\n",
      "A1 // 0.20956348487592827\n",
      "B3 // 0.24403791583650306\n",
      "B4 // 0.25381875264142967\n",
      "B5 // 0.26323733623135903\n",
      "C1 // 0.3160659300851295\n",
      "C2 // 0.41484030670772204\n",
      "C3 // 0.4265531606593009\n",
      "F1 // 0.4703857996739721\n",
      "F2 // 0.4793213789772384\n",
      "H1 // 0.4933285032904667\n",
      "T1 // 0.49846042383626155\n",
      "X1 // 0.5119845438628268\n",
      "X3 // 0.5558775584133309\n",
      "X4 // 0.6999335869105838\n",
      "DQ1 // 0.7594034897059712\n",
      "DQ2 // 0.7828895731449617\n",
      "DQ3 // 0.7886856245849182\n",
      "DQ4 // 0.790315764052406\n",
      "DQ5 // 0.7946628026323733\n",
      "DQ6 // 0.7953873090623679\n",
      "DQ7 // 0.798406085854012\n"
     ]
    }
   ],
   "source": [
    "# 결측값 확인\n",
    "for i in panel.columns:\n",
    "    try:\n",
    "        print( i,'//' ,np.sum(panel[i] == 0) / panel.shape[0])\n",
    "    except:\n",
    "        pass"
   ]
  },
  {
   "cell_type": "code",
   "execution_count": 73,
   "metadata": {
    "id": "5TqOWo2aWWDJ"
   },
   "outputs": [],
   "source": [
    "train = response_train.merge(survey).merge(panel, on = 'userID')\n",
    "test = response_test.merge(survey).merge(panel, on = 'userID')"
   ]
  },
  {
   "cell_type": "code",
   "execution_count": 74,
   "metadata": {
    "colab": {
     "base_uri": "https://localhost:8080/"
    },
    "id": "oKLAfhf0BSHt",
    "outputId": "100736a6-522c-4347-9b75-1668dad4a558",
    "scrolled": true
   },
   "outputs": [
    {
     "data": {
      "text/plain": [
       "40"
      ]
     },
     "execution_count": 74,
     "metadata": {},
     "output_type": "execute_result"
    }
   ],
   "source": [
    "gc.collect()"
   ]
  },
  {
   "cell_type": "code",
   "execution_count": null,
   "metadata": {
    "id": "VoO2ACExdDLj"
   },
   "outputs": [],
   "source": []
  },
  {
   "cell_type": "markdown",
   "metadata": {
    "id": "N0ASqJzxWWDK"
   },
   "source": [
    "# 4. Features Engineering"
   ]
  },
  {
   "cell_type": "markdown",
   "metadata": {
    "id": "IlD7q4SPmUyj"
   },
   "source": [
    "* 질문관련"
   ]
  },
  {
   "cell_type": "code",
   "execution_count": 75,
   "metadata": {
    "id": "_8w5aRhSmW4w"
   },
   "outputs": [],
   "source": [
    "train['error_sum'] = (train.loc[:,'SQ2':'DQ7']==0).sum(axis=1)\n",
    "test['error_sum'] = (test.loc[:,'SQ2':'DQ7']==0).sum(axis=1)"
   ]
  },
  {
   "cell_type": "markdown",
   "metadata": {
    "id": "9XR__4UKmYFp"
   },
   "source": [
    "* 분할"
   ]
  },
  {
   "cell_type": "code",
   "execution_count": 76,
   "metadata": {
    "colab": {
     "base_uri": "https://localhost:8080/"
    },
    "id": "R7tU-iBbnnqF",
    "outputId": "d1fb7332-5360-4e1f-d617-392e9ba86e51"
   },
   "outputs": [
    {
     "data": {
      "text/plain": [
       "Index(['userID', 'surveyID', 'TIME', 'STATUS', 'TITLE', 'IR', 'LOI', 'CPI',\n",
       "       'BIRTH', 'GENDER', 'REGION', 'TYPE', 'SQ2', 'SQ3', 'SQ4', 'SQ5', 'SQ6',\n",
       "       'SQ7', 'SQ8', 'A1', 'B3', 'B4', 'B5', 'C1', 'C2', 'C3', 'F1', 'F2',\n",
       "       'H1', 'T1', 'X1', 'X3', 'X4', 'DQ1', 'DQ2', 'DQ3', 'DQ4', 'DQ5', 'DQ6',\n",
       "       'DQ7', 'error_sum'],\n",
       "      dtype='object')"
      ]
     },
     "execution_count": 76,
     "metadata": {},
     "output_type": "execute_result"
    }
   ],
   "source": [
    "train.columns"
   ]
  },
  {
   "cell_type": "code",
   "execution_count": 77,
   "metadata": {
    "id": "eHcO9sNTe9VA"
   },
   "outputs": [],
   "source": [
    "train = train.drop([ 'C2', 'C3', 'F1', 'F2',\n",
    "       'H1', 'T1', 'X1', 'X3', 'X4', 'DQ1', 'DQ2', 'DQ3', 'DQ4', 'DQ5', 'DQ6',\n",
    "       'DQ7'],axis=1)\n",
    "\n",
    "test = test.drop([ 'C2', 'C3', 'F1', 'F2',\n",
    "       'H1', 'T1', 'X1', 'X3', 'X4', 'DQ1', 'DQ2', 'DQ3', 'DQ4', 'DQ5', 'DQ6',\n",
    "       'DQ7'],axis=1)"
   ]
  },
  {
   "cell_type": "code",
   "execution_count": 78,
   "metadata": {
    "colab": {
     "base_uri": "https://localhost:8080/"
    },
    "id": "HHw3fBmBDDSk",
    "outputId": "d0d7c148-1984-4776-baa6-aee1d1e64fb3"
   },
   "outputs": [
    {
     "data": {
      "text/plain": [
       "891"
      ]
     },
     "execution_count": 78,
     "metadata": {},
     "output_type": "execute_result"
    }
   ],
   "source": [
    "\n",
    "len(set(train.userID.unique())-set((test.userID.unique())))"
   ]
  },
  {
   "cell_type": "code",
   "execution_count": 79,
   "metadata": {
    "id": "g1lkISLee9VA"
   },
   "outputs": [],
   "source": [
    "# train 데이터 분할\n",
    "before_train = train.query(\"TIME>='2020-11-01 00:00:00' and TIME< '2021-03-01 00:00:00'\")\n",
    "train = train.query(\"TIME>='2021-03-01 00:00:00'\")"
   ]
  },
  {
   "cell_type": "code",
   "execution_count": 80,
   "metadata": {
    "colab": {
     "base_uri": "https://localhost:8080/"
    },
    "id": "-g03kUMpB3sk",
    "outputId": "e11e37d0-bbb2-4f46-c1b1-4e876d81011e"
   },
   "outputs": [
    {
     "data": {
      "text/plain": [
       "182"
      ]
     },
     "execution_count": 80,
     "metadata": {},
     "output_type": "execute_result"
    }
   ],
   "source": [
    "len(set(test.userID.unique()) - set(train.userID.unique()))"
   ]
  },
  {
   "cell_type": "markdown",
   "metadata": {
    "id": "-yE9IrXAmaGz"
   },
   "source": [
    "* 최초 응답"
   ]
  },
  {
   "cell_type": "code",
   "execution_count": 81,
   "metadata": {
    "id": "3qUXIndufgmc"
   },
   "outputs": [],
   "source": [
    "a = train.sort_values(by='TIME').drop_duplicates(['userID'],keep='first')"
   ]
  },
  {
   "cell_type": "code",
   "execution_count": 82,
   "metadata": {
    "id": "5JTlHQogicQO"
   },
   "outputs": [],
   "source": [
    "first_survey = a.query('STATUS == 1')"
   ]
  },
  {
   "cell_type": "code",
   "execution_count": 83,
   "metadata": {
    "id": "7kQZdUa9jjKu"
   },
   "outputs": [],
   "source": [
    "first_survey['first_survey'] = 1"
   ]
  },
  {
   "cell_type": "code",
   "execution_count": 84,
   "metadata": {
    "id": "0SSFpqhfjqqF"
   },
   "outputs": [],
   "source": [
    "train = train.merge(first_survey[['userID','first_survey']], how='left')"
   ]
  },
  {
   "cell_type": "code",
   "execution_count": 85,
   "metadata": {
    "id": "-rXI-AzeklYm"
   },
   "outputs": [],
   "source": [
    "train.fillna(0,inplace=True)"
   ]
  },
  {
   "cell_type": "code",
   "execution_count": 86,
   "metadata": {
    "id": "u5acE4gnqrZZ"
   },
   "outputs": [],
   "source": [
    "train.first_survey = train.first_survey.astype(object)"
   ]
  },
  {
   "cell_type": "code",
   "execution_count": 87,
   "metadata": {
    "id": "RrWUiDjrkUvo"
   },
   "outputs": [],
   "source": [
    "test = test.merge(first_survey[['userID','first_survey']], on='userID',how = 'left').fillna(0)"
   ]
  },
  {
   "cell_type": "code",
   "execution_count": 88,
   "metadata": {
    "id": "aabFXDV8-nvZ"
   },
   "outputs": [],
   "source": [
    "# 패널 아이디별, CPI 획득량 \n",
    "Points_earned = pd.DataFrame(before_train.query('STATUS==1').groupby('userID')['CPI'].agg([('Points_earned',np.sum)])).reset_index()\n",
    "\n",
    "train = train.merge(Points_earned, how='left')\n",
    "train['Points_earned'].fillna(train['Points_earned'].mean(), inplace = True)\n",
    "test = test.merge(Points_earned, how='left')\n",
    "test['Points_earned'].fillna(test['Points_earned'].mean(), inplace = True)"
   ]
  },
  {
   "cell_type": "code",
   "execution_count": 89,
   "metadata": {
    "id": "mrGgr-g9_ANc"
   },
   "outputs": [],
   "source": [
    "# 패널 아이디별, LOI 실제 sum\n",
    "LOI_SUM = pd.DataFrame(before_train.query('STATUS==1').groupby('userID')['LOI'].agg([('LOI_SUM',np.sum)])).reset_index()\n",
    "\n",
    "train = train.merge(LOI_SUM, how='left')\n",
    "train['LOI_SUM'].fillna(train['LOI_SUM'].mean(), inplace = True)\n",
    "test = test.merge(LOI_SUM, how='left')\n",
    "test['LOI_SUM'].fillna(test['LOI_SUM'].mean(), inplace = True)"
   ]
  },
  {
   "cell_type": "code",
   "execution_count": 90,
   "metadata": {
    "id": "8rnDL_KL_MV0"
   },
   "outputs": [],
   "source": [
    "# 패널 아이디별, IR 실제 sum\n",
    "IR_SUM = pd.DataFrame(before_train.query('STATUS==1').groupby('userID')['IR'].agg([('IR_SUM',np.sum)])).reset_index()\n",
    "\n",
    "train = train.merge(IR_SUM, how='left')\n",
    "train['IR_SUM'].fillna(train['IR_SUM'].mean(), inplace = True)\n",
    "test = test.merge(IR_SUM, how='left')\n",
    "test['IR_SUM'].fillna(test['IR_SUM'].mean(), inplace = True)"
   ]
  },
  {
   "cell_type": "code",
   "execution_count": 91,
   "metadata": {
    "id": "GpFSi7_O_fya"
   },
   "outputs": [
    {
     "data": {
      "text/plain": [
       "\"#IR_index = (before_train.query('STATUS == 1')['IR'].value_counts()/before_train.query('STATUS == 1')['IR'].value_counts().sum()).head(2).index.tolist()\\na = (before_train.query('STATUS == 1')['IR'].value_counts()/before_train.query('STATUS == 1')['IR'].value_counts().sum()).reset_index()\\na = a.rename(columns = {'IR':'STAT1IR'})\\na = a.rename(columns = {'index' : 'IR'})\\ntrain = train.merge(a,on = 'IR',how='left')\\ntest = test.merge(a,on = 'IR',how='left')\\ntrain['STAT1IR'].fillna(train['STAT1IR'].mean(), inplace = True)\\ntest['STAT1IR'].fillna(test['STAT1IR'].mean(), inplace = True)\\n# STATUS 가 1일 때 IR이 특정 구간일 확률\""
      ]
     },
     "execution_count": 91,
     "metadata": {},
     "output_type": "execute_result"
    }
   ],
   "source": [
    "\"\"\"#IR_index = (before_train.query('STATUS == 1')['IR'].value_counts()/before_train.query('STATUS == 1')['IR'].value_counts().sum()).head(2).index.tolist()\n",
    "a = (before_train.query('STATUS == 1')['IR'].value_counts()/before_train.query('STATUS == 1')['IR'].value_counts().sum()).reset_index()\n",
    "a = a.rename(columns = {'IR':'STAT1IR'})\n",
    "a = a.rename(columns = {'index' : 'IR'})\n",
    "train = train.merge(a,on = 'IR',how='left')\n",
    "test = test.merge(a,on = 'IR',how='left')\n",
    "train['STAT1IR'].fillna(train['STAT1IR'].mean(), inplace = True)\n",
    "test['STAT1IR'].fillna(test['STAT1IR'].mean(), inplace = True)\n",
    "# STATUS 가 1일 때 IR이 특정 구간일 확률\"\"\""
   ]
  },
  {
   "cell_type": "code",
   "execution_count": 92,
   "metadata": {
    "colab": {
     "base_uri": "https://localhost:8080/"
    },
    "id": "pIZkGiJ-BK8I",
    "outputId": "f32666ef-e799-427a-a632-d2e57aa216ac"
   },
   "outputs": [
    {
     "data": {
      "text/plain": [
       "\"#LOI_index = (before_train.query('STATUS == 1')['LOI'].value_counts()/before_train.query('STATUS == 1')['LOI'].value_counts().sum()).head(2).index.tolist()\\na = (before_train.query('STATUS == 1')['LOI'].value_counts()/before_train.query('STATUS == 1')['LOI'].value_counts().sum()).reset_index()\\na = a.rename(columns = {'LOI':'STAT1LOI'})\\na = a.rename(columns = {'index' : 'LOI'})\\ntrain = train.merge(a,on = 'LOI',how = 'left')\\ntest = test.merge(a,on = 'LOI',how = 'left')\\ntrain['STAT1LOI'].fillna(train['STAT1LOI'].mean(), inplace = True)\\ntest['STAT1LOI'].fillna(test['STAT1LOI'].mean(), inplace = True)\\ntrain.shape,test.shape\\n# STATUS 가 1일 때 IR이 특정 구간일 확률\""
      ]
     },
     "execution_count": 92,
     "metadata": {},
     "output_type": "execute_result"
    }
   ],
   "source": [
    "\"\"\"#LOI_index = (before_train.query('STATUS == 1')['LOI'].value_counts()/before_train.query('STATUS == 1')['LOI'].value_counts().sum()).head(2).index.tolist()\n",
    "a = (before_train.query('STATUS == 1')['LOI'].value_counts()/before_train.query('STATUS == 1')['LOI'].value_counts().sum()).reset_index()\n",
    "a = a.rename(columns = {'LOI':'STAT1LOI'})\n",
    "a = a.rename(columns = {'index' : 'LOI'})\n",
    "train = train.merge(a,on = 'LOI',how = 'left')\n",
    "test = test.merge(a,on = 'LOI',how = 'left')\n",
    "train['STAT1LOI'].fillna(train['STAT1LOI'].mean(), inplace = True)\n",
    "test['STAT1LOI'].fillna(test['STAT1LOI'].mean(), inplace = True)\n",
    "train.shape,test.shape\n",
    "# STATUS 가 1일 때 IR이 특정 구간일 확률\"\"\""
   ]
  },
  {
   "cell_type": "code",
   "execution_count": 93,
   "metadata": {
    "id": "7D1UHce5Bpyg"
   },
   "outputs": [
    {
     "data": {
      "text/plain": [
       "\"#CPI_index = (before_train.query('STATUS == 1')['CPI'].value_counts()/before_train.query('STATUS == 1')['CPI'].value_counts().sum()).head(2).index.tolist()\\na = (before_train.query('STATUS == 1')['CPI'].value_counts()/before_train.query('STATUS == 1')['CPI'].value_counts().sum()).reset_index()\\na = a.rename(columns = {'CPI':'STAT1CPI'})\\na = a.rename(columns = {'index' : 'CPI'})\\ntrain = train.merge(a,on = 'CPI',how='left')\\ntest = test.merge(a,on = 'CPI',how='left')\\ntrain['STAT1CPI'].fillna(train['STAT1CPI'].mean(), inplace = True)\\ntest['STAT1CPI'].fillna(test['STAT1CPI'].mean(), inplace = True)\\n# STATUS 가 1일 때 IR이 특정 구간일 확률\""
      ]
     },
     "execution_count": 93,
     "metadata": {},
     "output_type": "execute_result"
    }
   ],
   "source": [
    "\"\"\"#CPI_index = (before_train.query('STATUS == 1')['CPI'].value_counts()/before_train.query('STATUS == 1')['CPI'].value_counts().sum()).head(2).index.tolist()\n",
    "a = (before_train.query('STATUS == 1')['CPI'].value_counts()/before_train.query('STATUS == 1')['CPI'].value_counts().sum()).reset_index()\n",
    "a = a.rename(columns = {'CPI':'STAT1CPI'})\n",
    "a = a.rename(columns = {'index' : 'CPI'})\n",
    "train = train.merge(a,on = 'CPI',how='left')\n",
    "test = test.merge(a,on = 'CPI',how='left')\n",
    "train['STAT1CPI'].fillna(train['STAT1CPI'].mean(), inplace = True)\n",
    "test['STAT1CPI'].fillna(test['STAT1CPI'].mean(), inplace = True)\n",
    "# STATUS 가 1일 때 IR이 특정 구간일 확률\"\"\""
   ]
  },
  {
   "cell_type": "markdown",
   "metadata": {
    "id": "qpVyZmNnBimu"
   },
   "source": [
    "* IR별 응답비율\n",
    "\n",
    "\n",
    "\n"
   ]
  },
  {
   "cell_type": "code",
   "execution_count": 94,
   "metadata": {
    "id": "mz9Qr5Kwe9VA"
   },
   "outputs": [],
   "source": [
    "train_IR = ((train.groupby('IR')['STATUS'].sum())/(train.IR.value_counts().sort_index())).reset_index().rename(columns = {0 : 'STATUS_ratio_IR'})"
   ]
  },
  {
   "cell_type": "code",
   "execution_count": 95,
   "metadata": {
    "id": "cG-WBiA0e9VA"
   },
   "outputs": [],
   "source": [
    "train = train.merge(train_IR,on='IR')\n",
    "test = test.merge(train_IR,on='IR', how = 'left').fillna(train_IR.mean()[1])"
   ]
  },
  {
   "cell_type": "markdown",
   "metadata": {
    "id": "jtj0H5qfWWDT"
   },
   "source": [
    "* LOI구간 별 응답비율"
   ]
  },
  {
   "cell_type": "code",
   "execution_count": 96,
   "metadata": {
    "id": "hmGn4UcLe9VB"
   },
   "outputs": [],
   "source": [
    "train_LOI = ((train.groupby('LOI')['STATUS'].sum())/(train.LOI.value_counts().sort_index())).reset_index().rename(columns = {0 : 'STATUS_ratio_LOI'})"
   ]
  },
  {
   "cell_type": "code",
   "execution_count": 97,
   "metadata": {
    "id": "wpvHXWi2e9VB"
   },
   "outputs": [],
   "source": [
    "train = train.merge(train_LOI,on='LOI')\n",
    "test = test.merge(train_LOI, how = 'left').fillna(train_LOI.mean()[1])"
   ]
  },
  {
   "cell_type": "markdown",
   "metadata": {
    "id": "6rUqEGfUWWDX"
   },
   "source": [
    "* CPI구간 별 응답비율"
   ]
  },
  {
   "cell_type": "code",
   "execution_count": 98,
   "metadata": {
    "id": "JRuP04eXe9VB"
   },
   "outputs": [],
   "source": [
    "train_CPI = ((train.groupby('CPI')['STATUS'].sum())/(train.CPI.value_counts().sort_index())).reset_index().rename(columns = {0 : 'STATUS_ratio_CPI'})"
   ]
  },
  {
   "cell_type": "code",
   "execution_count": 99,
   "metadata": {
    "id": "Z5zVw8Fde9VB"
   },
   "outputs": [],
   "source": [
    "train = train.merge(train_CPI,on='CPI')\n",
    "test = test.merge(train_CPI, how = 'left').fillna(train_CPI.mean()[1])"
   ]
  },
  {
   "cell_type": "code",
   "execution_count": 100,
   "metadata": {
    "colab": {
     "base_uri": "https://localhost:8080/"
    },
    "id": "D_ghNx7me9VB",
    "outputId": "ed8e84df-d79a-4969-dacc-44b4de74bd4f",
    "scrolled": false
   },
   "outputs": [
    {
     "data": {
      "text/plain": [
       "((1170545, 32), (1355517, 32))"
      ]
     },
     "execution_count": 100,
     "metadata": {},
     "output_type": "execute_result"
    }
   ],
   "source": [
    "train.shape, test.shape"
   ]
  },
  {
   "cell_type": "markdown",
   "metadata": {
    "id": "ptT-FthFIqT6"
   },
   "source": [
    "* 시계열 피쳐 생성"
   ]
  },
  {
   "cell_type": "code",
   "execution_count": 101,
   "metadata": {
    "id": "s7wuaV6Ze9VB"
   },
   "outputs": [],
   "source": [
    "# month는 drop 예정\n",
    "train['TIME'] =  pd.to_datetime(train['TIME'], format='%Y/%m/%d')\n",
    "train['weekday'] = train['TIME'].dt.dayofweek\n",
    "train['month'] = train['TIME'].dt.month\n",
    "train['hour'] = train['TIME'].dt.hour\n",
    "\n",
    "test['TIME'] =  pd.to_datetime(test['TIME'], format='%Y/%m/%d')\n",
    "test['weekday'] = test['TIME'].dt.dayofweek\n",
    "test['month'] = train['TIME'].dt.month\n",
    "test['hour'] = test['TIME'].dt.hour"
   ]
  },
  {
   "cell_type": "code",
   "execution_count": 102,
   "metadata": {
    "id": "WlIFfF8CFP7j"
   },
   "outputs": [],
   "source": [
    "a = (train['TIME'].max()-train.groupby('userID')['TIME'].min()).dt.days.reset_index()\n",
    "a = a.rename(columns = {'TIME': 'last_survey'})\n",
    "train['last_survey'] = train.merge(a, on = 'userID',how = 'left')['last_survey']\n",
    "test['last_survey'] = test.merge(a,on = 'userID',how='left')['last_survey']"
   ]
  },
  {
   "cell_type": "code",
   "execution_count": 103,
   "metadata": {
    "id": "wFkC5OLUF4dz"
   },
   "outputs": [],
   "source": [
    "train['last_survey'].fillna(0,inplace = True)\n",
    "test['last_survey'].fillna(0,inplace = True)"
   ]
  },
  {
   "cell_type": "code",
   "execution_count": 104,
   "metadata": {
    "id": "8L4P_C5iF9v8"
   },
   "outputs": [],
   "source": [
    "a = (train.groupby('userID')['TIME'].max()-train.groupby('userID')['TIME'].min()).dt.days\n",
    "a = a/train.groupby('userID')['userID'].count()\n",
    "a = a.reset_index()\n",
    "a = a.rename(columns = {0:'TIMEFREQ'})\n",
    "train['TIMEFREQ'] = train.merge(a,on = 'userID',how = 'left')['TIMEFREQ']\n",
    "test['TIMEFREQ'] = test.merge(a,on = 'userID',how = 'left')['TIMEFREQ']\n",
    "train['TIMEFREQ'].fillna(0,inplace = True)\n",
    "test['TIMEFREQ'].fillna(0,inplace = True)"
   ]
  },
  {
   "cell_type": "code",
   "execution_count": 105,
   "metadata": {
    "id": "8ppYhAMjG9CK"
   },
   "outputs": [],
   "source": [
    "#train = train.merge(train.pivot_table(index = 'userID', columns = 'weekday',values = 'STATUS',aggfunc = np.mean).fillna(0),on='userID',how='left')\n",
    "#test = test.merge(train.pivot_table(index = 'userID', columns = 'weekday',values = 'STATUS',aggfunc = np.mean).fillna(0),on='userID',how='left')"
   ]
  },
  {
   "cell_type": "code",
   "execution_count": 106,
   "metadata": {
    "id": "DCxEdzzie9VC"
   },
   "outputs": [],
   "source": [
    "# 6~10월 요일 별 응답률\n",
    "train_weekday_ratio = train.groupby('weekday')['STATUS'].mean().reset_index().rename(columns = {'STATUS' : 'STATUS_ratio_weekday'})\n",
    "\n",
    "train = train.merge(train_weekday_ratio,on='weekday')\n",
    "test = test.merge(train_weekday_ratio,on='weekday')\n",
    "#tr_test = tr_test.merge(train_weekday_ratio,on='weekday')"
   ]
  },
  {
   "cell_type": "code",
   "execution_count": 107,
   "metadata": {
    "id": "CHQNXJqte9VC"
   },
   "outputs": [],
   "source": [
    "# 6~10월 시간 별 응답률\n",
    "train_hour_ratio = train.groupby('hour')['STATUS'].mean().reset_index().rename(columns = {'STATUS' : 'STATUS_ratio_hour'})\n",
    "\n",
    "train = train.merge(train_hour_ratio,on='hour')\n",
    "test = test.merge(train_hour_ratio,on='hour')\n",
    "#tr_test = tr_test.merge(train_hour_ratio,on='hour')"
   ]
  },
  {
   "cell_type": "code",
   "execution_count": 108,
   "metadata": {
    "colab": {
     "base_uri": "https://localhost:8080/"
    },
    "id": "5g_01uaoe9VC",
    "outputId": "5a50b934-ba14-4f31-800c-207a602d6b21"
   },
   "outputs": [
    {
     "data": {
      "text/plain": [
       "((1170545, 39), (1355517, 39))"
      ]
     },
     "execution_count": 108,
     "metadata": {},
     "output_type": "execute_result"
    }
   ],
   "source": [
    "train.shape, test.shape "
   ]
  },
  {
   "cell_type": "markdown",
   "metadata": {
    "id": "zaSpszx0e9VC"
   },
   "source": [
    "* userID 별 응답률"
   ]
  },
  {
   "cell_type": "code",
   "execution_count": 109,
   "metadata": {
    "colab": {
     "base_uri": "https://localhost:8080/",
     "height": 92
    },
    "id": "WHZh5pSQe9VC",
    "outputId": "9708b119-7d8c-41d8-c832-7106d1a8ef39"
   },
   "outputs": [
    {
     "data": {
      "text/plain": [
       "\"userID_STATUS_ratio = before_train.STATUS.groupby(train.userID).sum() / before_train.STATUS.groupby(train.userID).count()\\nuserID_STATUS_ratio.name = 'before_userID_STATUS_ratio'\\n\\ntrain = train.merge(userID_STATUS_ratio,on='userID', how = 'left').fillna(userID_STATUS_ratio.mean())\\ntest = test.merge(userID_STATUS_ratio,on='userID',how = 'left').fillna(userID_STATUS_ratio.mean())\\ntr_test = tr_test.merge(userID_STATUS_ratio,on='userID',how = 'left').fillna(userID_STATUS_ratio.mean())\""
      ]
     },
     "execution_count": 109,
     "metadata": {},
     "output_type": "execute_result"
    }
   ],
   "source": [
    "\"\"\"userID_STATUS_ratio = before_train.STATUS.groupby(train.userID).sum() / before_train.STATUS.groupby(train.userID).count()\n",
    "userID_STATUS_ratio.name = 'before_userID_STATUS_ratio'\n",
    "\n",
    "train = train.merge(userID_STATUS_ratio,on='userID', how = 'left').fillna(userID_STATUS_ratio.mean())\n",
    "test = test.merge(userID_STATUS_ratio,on='userID',how = 'left').fillna(userID_STATUS_ratio.mean())\n",
    "tr_test = tr_test.merge(userID_STATUS_ratio,on='userID',how = 'left').fillna(userID_STATUS_ratio.mean())\"\"\""
   ]
  },
  {
   "cell_type": "code",
   "execution_count": 110,
   "metadata": {
    "colab": {
     "base_uri": "https://localhost:8080/"
    },
    "id": "OoscL5QFe9VC",
    "outputId": "51a7eb3d-8175-458b-ed5e-afaf73d42eb4"
   },
   "outputs": [
    {
     "data": {
      "text/plain": [
       "((1170545, 39), (1355517, 39))"
      ]
     },
     "execution_count": 110,
     "metadata": {},
     "output_type": "execute_result"
    }
   ],
   "source": [
    "train.shape, test.shape"
   ]
  },
  {
   "cell_type": "code",
   "execution_count": 111,
   "metadata": {
    "colab": {
     "base_uri": "https://localhost:8080/"
    },
    "id": "r3sfSlRxJD3w",
    "outputId": "4b1c8a8b-4873-44ac-fdea-d07af9975ff4"
   },
   "outputs": [
    {
     "data": {
      "text/plain": [
       "0          630.0\n",
       "1          630.0\n",
       "2          630.0\n",
       "3          630.0\n",
       "4          630.0\n",
       "           ...  \n",
       "1355512    825.0\n",
       "1355513    825.0\n",
       "1355514    825.0\n",
       "1355515    825.0\n",
       "1355516    825.0\n",
       "Name: user_CPI_mean, Length: 1355517, dtype: float64"
      ]
     },
     "execution_count": 111,
     "metadata": {},
     "output_type": "execute_result"
    }
   ],
   "source": [
    "f_tr = train.groupby('userID')['IR'].agg([('user_IR_sum', np.sum),\n",
    "                                   ('user_IR_mean', lambda x : np.round(np.mean(x))),\n",
    "                                   ('user_IR_max', np.max), \n",
    "                                   ('user_IR_min', np.min),\n",
    "                                   ('user_IR_std', lambda x : np.round(np.std(x)))]).reset_index()\n",
    "train = train.merge(f_tr[['userID','user_IR_mean']], on = 'userID')\n",
    "\n",
    "f_te = test.groupby('userID')['IR'].agg([('user_IR_sum', np.sum),\n",
    "                                   ('user_IR_mean', lambda x : np.round(np.mean(x))),\n",
    "                                   ('user_IR_max', np.max), \n",
    "                                   ('user_IR_min', np.min),\n",
    "                                   ('user_IR_std', lambda x : np.round(np.std(x)))]).reset_index()\n",
    "test = test.merge(f_te[['userID','user_IR_mean']], on = 'userID')\n",
    "test['user_IR_mean'].fillna(train['user_IR_mean'].mean())\n",
    "##################################################################################################\n",
    "\n",
    "f_tr = train.groupby('userID')['LOI'].agg([('user_LOI_sum', np.sum),\n",
    "                                   ('user_LOI_mean', lambda x : np.round(np.mean(x))),\n",
    "                                   ('user_LOI_max', np.max), \n",
    "                                   ('user_LOI_min', np.min),\n",
    "                                   ('user_LOI_std', lambda x : np.round(np.std(x)))]).reset_index()\n",
    "train = train.merge(f_tr[['userID','user_LOI_mean']], on = 'userID')\n",
    "\n",
    "f_te = test.groupby('userID')['LOI'].agg([('user_LOI_sum', np.sum),\n",
    "                                   ('user_LOI_mean', lambda x : np.round(np.mean(x))),\n",
    "                                   ('user_LOI_max', np.max), \n",
    "                                   ('user_LOI_min', np.min),\n",
    "                                   ('user_LOI_std', lambda x : np.round(np.std(x)))]).reset_index()\n",
    "test = test.merge(f_te[['userID','user_LOI_mean']], on = 'userID')\n",
    "test['user_LOI_mean'].fillna(train['user_LOI_mean'].mean())\n",
    "##################################################################################################\n",
    "\n",
    "f_tr = train.groupby('userID')['CPI'].agg([('user_CPI_sum', np.sum),\n",
    "                                   ('user_CPI_mean', lambda x : np.round(np.mean(x))),\n",
    "                                   ('user_CPI_max', np.max), \n",
    "                                   ('user_CPI_min', np.min),\n",
    "                                   ('user_CPI_std', lambda x : np.round(np.std(x)))]).reset_index()\n",
    "train = train.merge(f_tr[['userID','user_CPI_mean']], on = 'userID')\n",
    "\n",
    "f_te = test.groupby('userID')['CPI'].agg([('user_CPI_sum', np.sum),\n",
    "                                   ('user_CPI_mean', lambda x : np.round(np.mean(x))),\n",
    "                                   ('user_CPI_max', np.max), \n",
    "                                   ('user_CPI_min', np.min),\n",
    "                                   ('user_CPI_std', lambda x : np.round(np.std(x)))]).reset_index()\n",
    "test = test.merge(f_te[['userID','user_CPI_mean']], on = 'userID')\n",
    "test['user_CPI_mean'].fillna(train['user_CPI_mean'].mean())"
   ]
  },
  {
   "cell_type": "markdown",
   "metadata": {
    "id": "6qHheM9Ce9VC"
   },
   "source": [
    "* BIRTH 이산화"
   ]
  },
  {
   "cell_type": "code",
   "execution_count": 112,
   "metadata": {
    "id": "A1_gPTtUe9VC"
   },
   "outputs": [],
   "source": [
    "train.loc[train.BIRTH < 1950,'BIRTH'] = 1940\n",
    "train.loc[(1950 <=train.BIRTH) & (train.BIRTH < 1960),'BIRTH'] = 1950\n",
    "train.loc[(1960 <= train.BIRTH) & (train.BIRTH < 1970),'BIRTH'] = 1960\n",
    "train.loc[(1970 <=train.BIRTH) & (train.BIRTH < 1980),'BIRTH'] = 1970\n",
    "train.loc[(1980 <=train.BIRTH) & (train.BIRTH < 1990),'BIRTH'] = 1980\n",
    "train.loc[(1990 <=train.BIRTH) & (train.BIRTH < 2000),'BIRTH'] = 1990\n",
    "train.loc[(2000 <=train.BIRTH) & (train.BIRTH < 2010),'BIRTH'] = 2000\n",
    "\n",
    "# 나름대로 유의미?\n",
    "train['BIRTH'] = train['BIRTH']\n",
    "\n",
    "test.loc[test.BIRTH < 1950,'BIRTH'] = 1940\n",
    "test.loc[(1950 <=test.BIRTH) & (test.BIRTH < 1960),'BIRTH'] = 1950\n",
    "test.loc[(1960 <= test.BIRTH) & (test.BIRTH < 1970),'BIRTH'] = 1960\n",
    "test.loc[(1970 <=test.BIRTH) & (test.BIRTH < 1980),'BIRTH'] = 1970\n",
    "test.loc[(1980 <=test.BIRTH) & (test.BIRTH < 1990),'BIRTH'] = 1980\n",
    "test.loc[(1990 <=test.BIRTH) & (test.BIRTH < 2000),'BIRTH'] = 1990\n",
    "test.loc[(2000 <=test.BIRTH) & (test.BIRTH < 2010),'BIRTH'] = 2000\n",
    "\n",
    "test['BIRTH'] = test['BIRTH']"
   ]
  },
  {
   "cell_type": "code",
   "execution_count": 113,
   "metadata": {
    "id": "l67kY_fQe9VD"
   },
   "outputs": [],
   "source": [
    "a = train.groupby('BIRTH')['STATUS'].mean().reset_index()\n",
    "a = a.rename(columns = {'STATUS' : 'BIRTH_STATUS'})\n",
    "train['BIRTH_STATUS'] = train.merge(a,on = 'BIRTH')['BIRTH_STATUS']\n",
    "test['BIRTH_STATUS'] = test.merge(a,on = 'BIRTH')['BIRTH_STATUS']\n",
    "#tr_test['BIRTH_STATUS'] = tr_test.merge(a,on = 'BIRTH')['BIRTH_STATUS']"
   ]
  },
  {
   "cell_type": "code",
   "execution_count": 114,
   "metadata": {
    "colab": {
     "base_uri": "https://localhost:8080/"
    },
    "id": "-RxVR7xRe9VD",
    "outputId": "f5bff0d7-61e4-4391-d812-c762e8d3dbbd"
   },
   "outputs": [
    {
     "data": {
      "text/plain": [
       "((1170545, 43), (1355517, 43))"
      ]
     },
     "execution_count": 114,
     "metadata": {},
     "output_type": "execute_result"
    }
   ],
   "source": [
    "train.shape, test.shape"
   ]
  },
  {
   "cell_type": "markdown",
   "metadata": {
    "id": "53XjUyVBe9VD"
   },
   "source": [
    "* 응답 추세(2020/6~10)"
   ]
  },
  {
   "cell_type": "code",
   "execution_count": 115,
   "metadata": {
    "id": "vOFqdvT9e9VD"
   },
   "outputs": [],
   "source": [
    "week_to = train['TIME'].max()\n",
    "week_trans = []\n",
    "for i in range(6):\n",
    "    week_from = week_to + pd.DateOffset(weeks=-1)\n",
    "    week_trans.append(train.query('@week_from < TIME <= @week_to')\n",
    "                      .groupby('userID')['STATUS']\n",
    "                      .agg([(f'w{6-i}', 'mean')])\n",
    "                      .reset_index())\n",
    "    week_to = week_from\n",
    "    #userID별 월별 응답 평균"
   ]
  },
  {
   "cell_type": "code",
   "execution_count": 116,
   "metadata": {
    "id": "jCqQ-6xke9VD"
   },
   "outputs": [],
   "source": [
    "# 리스트로부터 데이터프레임 변환    \n",
    "f = pd.DataFrame({'userID': train.userID.unique()})"
   ]
  },
  {
   "cell_type": "code",
   "execution_count": 117,
   "metadata": {
    "id": "YfjGFCrbe9VD"
   },
   "outputs": [],
   "source": [
    "for w in week_trans[::-1]:\n",
    "    f = f.merge(w,how='left',on='userID')"
   ]
  },
  {
   "cell_type": "code",
   "execution_count": 118,
   "metadata": {
    "id": "BAN_Z-Dke9VD"
   },
   "outputs": [],
   "source": [
    "for i in f.columns[1:]:\n",
    "    f = f.fillna(f[i].mean())"
   ]
  },
  {
   "cell_type": "code",
   "execution_count": 119,
   "metadata": {
    "id": "1XmAQOJJe9VD"
   },
   "outputs": [],
   "source": [
    "train = train.merge(f, how='left')\n",
    "test = test.merge(f, how='left')\n",
    "#tr_test = tr_test.merge(f, how ='left')"
   ]
  },
  {
   "cell_type": "code",
   "execution_count": 120,
   "metadata": {
    "colab": {
     "base_uri": "https://localhost:8080/"
    },
    "id": "wbLr0uNLe9VD",
    "outputId": "edf110ed-34db-4073-bdaf-9ec3bed9ad3e"
   },
   "outputs": [
    {
     "data": {
      "text/plain": [
       "((1170545, 49), (1355517, 49))"
      ]
     },
     "execution_count": 120,
     "metadata": {},
     "output_type": "execute_result"
    }
   ],
   "source": [
    "train.shape, test.shape"
   ]
  },
  {
   "cell_type": "code",
   "execution_count": 121,
   "metadata": {
    "colab": {
     "base_uri": "https://localhost:8080/"
    },
    "id": "Incu_wvEwvuC",
    "outputId": "de503d8b-7743-49d8-cc8b-43c7a3c22faf"
   },
   "outputs": [
    {
     "data": {
      "text/plain": [
       "((1170545, 50), (1355517, 50))"
      ]
     },
     "execution_count": 121,
     "metadata": {},
     "output_type": "execute_result"
    }
   ],
   "source": [
    "a = (before_train.groupby('userID')['STATUS'].sum())/(before_train.groupby('userID')['userID'].count())\n",
    "a.name = 'user'\n",
    "a = a.reset_index()\n",
    "train = train.merge( a , on ='userID',how='left')\n",
    "test = test.merge(a, on = 'userID',how='left')\n",
    "#tr_test = tr_test.merge(a, on ='userID',how = 'left')\n",
    "train['user'].fillna(0,inplace = True)\n",
    "test['user'].fillna(0,inplace = True)\n",
    "#tr_test['user'].fillna(tr_test['user'].mean(),inplace = True)\n",
    "train.shape,test.shape"
   ]
  },
  {
   "cell_type": "code",
   "execution_count": 122,
   "metadata": {
    "id": "ltagglwvHRmk"
   },
   "outputs": [],
   "source": [
    "a = before_train.groupby('userID')['userID'].count()\n",
    "a.name = 'user_count'\n",
    "a = a.reset_index()\n",
    "before_train = before_train.merge(a, on = 'userID',how ='left')\n",
    "train = train.merge(a, on = 'userID', how = 'left')\n",
    "test = test.merge(a,on = 'userID', how ='left')\n",
    "#tr_test = tr_test.merge(a,on = 'userID', how ='left')\n",
    "train['user_count'].fillna(0,inplace = True)\n",
    "test['user_count'].fillna(0,inplace = True)\n",
    "#tr_test['user_count'].fillna(tr_test['user_count'].mean(),inplace = True)"
   ]
  },
  {
   "cell_type": "code",
   "execution_count": 123,
   "metadata": {
    "id": "lOLS8RwwHl0F"
   },
   "outputs": [],
   "source": [
    "a = (before_train.query('STATUS == 1')['user_count'].value_counts()/before_train.query('STATUS == 1')['user_count'].value_counts().sum()).reset_index()\n",
    "a = a.rename(columns = {'user_count' : 'STAT1user_count'})\n",
    "a = a.rename(columns = {'index' : 'user_count'})\n",
    "before_train = before_train.merge(a,on = 'user_count')\n",
    "train = train.merge(a,on = 'user_count',how ='left')\n",
    "test = test.merge(a,on = 'user_count', how ='left')\n",
    "#tr_test = tr_test.merge(a,on = 'user_count', how ='left')\n",
    "train['STAT1user_count'].fillna(0,inplace = True)\n",
    "test['STAT1user_count'].fillna(0,inplace = True)\n"
   ]
  },
  {
   "cell_type": "code",
   "execution_count": 124,
   "metadata": {
    "id": "NcITXQYSLZ3I"
   },
   "outputs": [],
   "source": [
    "IR_index = (before_train.query('STATUS == 1')['IR'].value_counts()/before_train.query('STATUS == 1')['IR'].value_counts().sum()).sort_values(ascending = False).head(2).index.tolist()\n",
    "LOI_index = (before_train.query('STATUS == 1')['LOI'].value_counts()/before_train.query('STATUS == 1')['LOI'].value_counts().sum()).sort_values(ascending = False).head(5).index.tolist()\n",
    "CPI_index = (before_train.query('STATUS == 1')['CPI'].value_counts()/before_train.query('STATUS == 1')['CPI'].value_counts().sum()).sort_values(ascending = False).head(5).index.tolist()"
   ]
  },
  {
   "cell_type": "code",
   "execution_count": 125,
   "metadata": {
    "id": "4bGfksYKpS9A"
   },
   "outputs": [],
   "source": [
    "train['IR_ind'] = train['IR'].apply(lambda x : 1if x in IR_index else 0)\n",
    "train['LOI_ind'] = train['LOI'].apply(lambda x : 1 if x in LOI_index else 0)\n",
    "train['CPI_ind'] = train['CPI'].apply(lambda x : 1 if x in CPI_index else 0)\n",
    "test['IR_ind'] = test['IR'].apply(lambda x : 1 if x in IR_index else 0)\n",
    "test['LOI_ind'] = test['LOI'].apply(lambda x : 1 if x in LOI_index else 0)\n",
    "test['CPI_ind'] = test['CPI'].apply(lambda x : 1 if x in CPI_index else 0)\n",
    "train.fillna(0,inplace = True)\n",
    "test.fillna(0,inplace = True)"
   ]
  },
  {
   "cell_type": "code",
   "execution_count": 126,
   "metadata": {
    "id": "32Z76fyk83Hr"
   },
   "outputs": [],
   "source": [
    "train_columns = ['SQ2', 'SQ3', 'SQ4', 'SQ5', 'SQ6',\n",
    "       'SQ7', 'SQ8', 'A1', 'B3', 'B4', 'B5', 'C1']"
   ]
  },
  {
   "cell_type": "code",
   "execution_count": 127,
   "metadata": {
    "id": "GYlwznBV1zYO"
   },
   "outputs": [],
   "source": [
    "most_status_list = []\n",
    "for i in train_columns:\n",
    "  most_status_list.append(list(train.groupby(i)['STATUS'].mean().sort_values(ascending = False).head(1).index))"
   ]
  },
  {
   "cell_type": "code",
   "execution_count": 128,
   "metadata": {
    "id": "EEURsHQY2UQQ"
   },
   "outputs": [],
   "source": [
    "#for i in range(len(train_columns)):\n",
    " # train[train_columns[i]+str('best3')] = train[train_columns[i]].apply(lambda x : 1 if x in most_status_list[i] else 0)"
   ]
  },
  {
   "cell_type": "code",
   "execution_count": 129,
   "metadata": {
    "id": "0z_-JEFmKN2J"
   },
   "outputs": [],
   "source": [
    "#for i in range(len(train_columns)):\n",
    " # test[train_columns[i]+str('best3')] = test[train_columns[i]].apply(lambda x : 1 if x in most_status_list[i] else 0)"
   ]
  },
  {
   "cell_type": "code",
   "execution_count": 130,
   "metadata": {
    "id": "thyh2PE_LYtk"
   },
   "outputs": [],
   "source": [
    "#a = train.groupby('userID')['STATUS'].sum()/train.groupby('userID')['userID'].count()\n",
    "#a = a.reset_index()\n",
    "#a = a.rename(columns = {0:'STATUS/userID'})"
   ]
  },
  {
   "cell_type": "code",
   "execution_count": 131,
   "metadata": {
    "id": "S3lLNk1QMOB-"
   },
   "outputs": [],
   "source": [
    "#train = train.merge(a,on = 'userID')"
   ]
  },
  {
   "cell_type": "code",
   "execution_count": 132,
   "metadata": {
    "id": "ao36G74pLuxy"
   },
   "outputs": [],
   "source": [
    "#test = test.merge(a, on = 'userID')"
   ]
  },
  {
   "cell_type": "code",
   "execution_count": 133,
   "metadata": {
    "id": "gefe1lITwTux"
   },
   "outputs": [],
   "source": [
    "#error_rate = pd.Series()\n",
    "#for i in train_columns:\n",
    "#  error_rate[i] = train.loc[(train[i]==-1)].shape[0]/train.shape[0]\n",
    "#nan_rate = pd.Series()\n",
    "#for i in train_columns:\n",
    "#  nan_rate[i] = train.loc[(train[i]==0)].shape[0]/train.shape[0]"
   ]
  },
  {
   "cell_type": "code",
   "execution_count": 134,
   "metadata": {
    "colab": {
     "base_uri": "https://localhost:8080/",
     "height": 73
    },
    "id": "Y9aOJxPgwTuy",
    "outputId": "41942175-72f2-449e-f213-bc9bb0bf7bc7"
   },
   "outputs": [
    {
     "data": {
      "text/plain": [
       "\"error_rate = error_rate.reset_index().rename(columns = {0 : 'values'})\\nerror_list = list(error_rate.sort_values(ascending = False,by = 'values').head(15)['index'].values)\\nnan_rate = nan_rate.reset_index().rename(columns = {0 : 'values'})\\nnan_list = list(nan_rate.sort_values(ascending = False,by = 'values').head(15)['index'].values)\""
      ]
     },
     "execution_count": 134,
     "metadata": {},
     "output_type": "execute_result"
    }
   ],
   "source": [
    "\"\"\"error_rate = error_rate.reset_index().rename(columns = {0 : 'values'})\n",
    "error_list = list(error_rate.sort_values(ascending = False,by = 'values').head(15)['index'].values)\n",
    "nan_rate = nan_rate.reset_index().rename(columns = {0 : 'values'})\n",
    "nan_list = list(nan_rate.sort_values(ascending = False,by = 'values').head(15)['index'].values)\"\"\""
   ]
  },
  {
   "cell_type": "code",
   "execution_count": 135,
   "metadata": {
    "id": "eiT2C9NB2LP0"
   },
   "outputs": [],
   "source": [
    "#nan_error_list = list(set(error_list) | set(nan_list))"
   ]
  },
  {
   "cell_type": "code",
   "execution_count": 136,
   "metadata": {
    "colab": {
     "base_uri": "https://localhost:8080/",
     "height": 55
    },
    "id": "jKyRYjIf1jlr",
    "outputId": "68c64798-f8ef-427a-b63c-f1d44fc9501a"
   },
   "outputs": [
    {
     "data": {
      "text/plain": [
       "\"error = [-1,0]\\nfor i in nan_error_list:\\n  a = train.groupby('userID')[i].min().apply(lambda x : 1 if x in error else 0).reset_index()\\n  a = a.rename(columns = {i:f'{i}nan_error_rate'})\\n  train = train.merge(a,on = 'userID')\""
      ]
     },
     "execution_count": 136,
     "metadata": {},
     "output_type": "execute_result"
    }
   ],
   "source": [
    "\"\"\"error = [-1,0]\n",
    "for i in nan_error_list:\n",
    "  a = train.groupby('userID')[i].min().apply(lambda x : 1 if x in error else 0).reset_index()\n",
    "  a = a.rename(columns = {i:f'{i}nan_error_rate'})\n",
    "  train = train.merge(a,on = 'userID')\"\"\""
   ]
  },
  {
   "cell_type": "code",
   "execution_count": 137,
   "metadata": {
    "colab": {
     "base_uri": "https://localhost:8080/",
     "height": 55
    },
    "id": "Z_tj5EWt3D6H",
    "outputId": "1ea3e444-cc81-4b4d-a10b-3ff228f0e17b"
   },
   "outputs": [
    {
     "data": {
      "text/plain": [
       "\"for i in nan_error_list:\\n  a = test.groupby('userID')[i].min().apply(lambda x : 1 if x in error else 0).reset_index()\\n  a = a.rename(columns = {i:f'{i}nan_error_rate'})\\n  test = test.merge(a,on = 'userID')\""
      ]
     },
     "execution_count": 137,
     "metadata": {},
     "output_type": "execute_result"
    }
   ],
   "source": [
    "\"\"\"for i in nan_error_list:\n",
    "  a = test.groupby('userID')[i].min().apply(lambda x : 1 if x in error else 0).reset_index()\n",
    "  a = a.rename(columns = {i:f'{i}nan_error_rate'})\n",
    "  test = test.merge(a,on = 'userID')\"\"\""
   ]
  },
  {
   "cell_type": "markdown",
   "metadata": {
    "id": "GRIwCTlmGhai"
   },
   "source": [
    "# 5. Feature Selection"
   ]
  },
  {
   "cell_type": "markdown",
   "metadata": {
    "id": "DTTVWzN0iagf"
   },
   "source": [
    "* 학습용 데이터들 만들기"
   ]
  },
  {
   "cell_type": "code",
   "execution_count": 138,
   "metadata": {
    "id": "G8crAyQ9e9VE"
   },
   "outputs": [],
   "source": [
    "train = train.drop(columns = 'month')\n",
    "test = test.drop(columns = 'month')"
   ]
  },
  {
   "cell_type": "code",
   "execution_count": 139,
   "metadata": {
    "id": "JZLFfrZVfQwQ"
   },
   "outputs": [],
   "source": [
    "train['SQ6'] = train['SQ6'].apply(lambda x : -1 if x in [-2,-1,97] else x)\n",
    "test['SQ6'] = test['SQ6'].apply(lambda x : -1 if x in [-2,-1,97] else x)"
   ]
  },
  {
   "cell_type": "code",
   "execution_count": 140,
   "metadata": {
    "id": "noeWCh_RW7vh"
   },
   "outputs": [],
   "source": [
    "X_train = train.iloc[:,5:]\n",
    "y_train = train.STATUS\n",
    "X_test = test.iloc[:,5:]\n",
    "ID = test['ID']"
   ]
  },
  {
   "cell_type": "code",
   "execution_count": 141,
   "metadata": {
    "id": "DBiEd73AWyQp"
   },
   "outputs": [],
   "source": [
    " #범주형 변수와 수치형 변수를 분리\n",
    "cat_features = ['GENDER', 'REGION', 'TYPE', 'SQ4', 'SQ5', 'SQ6', 'SQ7', 'SQ8', 'A1', 'B3', 'B4', 'B5', 'C1','weekday', 'hour','first_survey']\n",
    "num_features = list(set(X_train.columns) - set(cat_features))"
   ]
  },
  {
   "cell_type": "code",
   "execution_count": 142,
   "metadata": {
    "id": "u6oaA76cY_ny"
   },
   "outputs": [],
   "source": [
    "X_train['GENDER'] = X_train['GENDER'].astype(int)\n",
    "X_train['REGION'] = X_train['REGION'].astype(int)\n",
    "X_test['GENDER'] = X_test['GENDER'].astype(int)\n",
    "X_test['REGION'] = X_test['REGION'].astype(int)\n",
    "X_train['first_survey'] = X_train['first_survey'].astype(int)\n",
    "X_test['first_survey'] = X_test['first_survey'].astype(int)"
   ]
  },
  {
   "cell_type": "code",
   "execution_count": 143,
   "metadata": {
    "colab": {
     "base_uri": "https://localhost:8080/"
    },
    "id": "BhsRhYeRZXvY",
    "outputId": "7e7ba95d-c256-43d5-cdab-a482ac20ccb2"
   },
   "outputs": [
    {
     "data": {
      "text/plain": [
       "49"
      ]
     },
     "execution_count": 143,
     "metadata": {},
     "output_type": "execute_result"
    }
   ],
   "source": [
    "len(X_train.columns)"
   ]
  },
  {
   "cell_type": "code",
   "execution_count": 144,
   "metadata": {
    "colab": {
     "base_uri": "https://localhost:8080/"
    },
    "id": "hbWeeD2ke9VE",
    "outputId": "7bffac75-3638-4f11-9f98-e28013611b30"
   },
   "outputs": [
    {
     "data": {
      "text/plain": [
       "((1170545, 49), (1355517, 49))"
      ]
     },
     "execution_count": 144,
     "metadata": {},
     "output_type": "execute_result"
    }
   ],
   "source": [
    "X_test.fillna(0,inplace = True)\n",
    "X_train.shape,X_test.shape"
   ]
  },
  {
   "cell_type": "markdown",
   "metadata": {
    "id": "CZiXg5Gsie4f"
   },
   "source": [
    "* 라벨 인코딩"
   ]
  },
  {
   "cell_type": "code",
   "execution_count": 145,
   "metadata": {
    "id": "VrHjAdqbaYcv"
   },
   "outputs": [],
   "source": [
    "from sklearn.preprocessing import LabelEncoder\n",
    "               \n",
    "for i in cat_features:\n",
    "    X_train[i] = LabelEncoder().fit_transform(X_train[i])\n",
    "\n",
    "for i in cat_features:\n",
    "    X_test[i] = LabelEncoder().fit_transform(X_test[i])"
   ]
  },
  {
   "cell_type": "markdown",
   "metadata": {
    "id": "5yRxrC1-BSIz"
   },
   "source": [
    "### Shap"
   ]
  },
  {
   "cell_type": "code",
   "execution_count": 147,
   "metadata": {
    "colab": {
     "base_uri": "https://localhost:8080/",
     "height": 1000
    },
    "id": "ojPEajXOYw64",
    "outputId": "b75b92d6-d2f0-46a8-95c4-6d63fb40c425",
    "scrolled": false
   },
   "outputs": [
    {
     "data": {
      "image/png": "[encoded data removed]",
      "text/plain": [
       "<Figure size 576x684 with 1 Axes>"
      ]
     },
     "metadata": {
      "needs_background": "light"
     },
     "output_type": "display_data"
    },
    {
     "data": {
      "text/html": [
       "<div>\n",
       "<style scoped>\n",
       "    .dataframe tbody tr th:only-of-type {\n",
       "        vertical-align: middle;\n",
       "    }\n",
       "\n",
       "    .dataframe tbody tr th {\n",
       "        vertical-align: top;\n",
       "    }\n",
       "\n",
       "    .dataframe thead th {\n",
       "        text-align: right;\n",
       "    }\n",
       "</style>\n",
       "<table border=\"1\" class=\"dataframe\">\n",
       "  <thead>\n",
       "    <tr style=\"text-align: right;\">\n",
       "      <th></th>\n",
       "      <th>column_name</th>\n",
       "      <th>shap_importance</th>\n",
       "    </tr>\n",
       "  </thead>\n",
       "  <tbody>\n",
       "    <tr>\n",
       "      <th>40</th>\n",
       "      <td>w4</td>\n",
       "      <td>0.55742</td>\n",
       "    </tr>\n",
       "    <tr>\n",
       "      <th>37</th>\n",
       "      <td>w1</td>\n",
       "      <td>0.550411</td>\n",
       "    </tr>\n",
       "    <tr>\n",
       "      <th>26</th>\n",
       "      <td>STATUS_ratio_CPI</td>\n",
       "      <td>0.500782</td>\n",
       "    </tr>\n",
       "    <tr>\n",
       "      <th>38</th>\n",
       "      <td>w2</td>\n",
       "      <td>0.395011</td>\n",
       "    </tr>\n",
       "    <tr>\n",
       "      <th>43</th>\n",
       "      <td>user</td>\n",
       "      <td>0.340275</td>\n",
       "    </tr>\n",
       "    <tr>\n",
       "      <th>39</th>\n",
       "      <td>w3</td>\n",
       "      <td>0.27822</td>\n",
       "    </tr>\n",
       "    <tr>\n",
       "      <th>42</th>\n",
       "      <td>w6</td>\n",
       "      <td>0.264657</td>\n",
       "    </tr>\n",
       "    <tr>\n",
       "      <th>41</th>\n",
       "      <td>w5</td>\n",
       "      <td>0.239932</td>\n",
       "    </tr>\n",
       "    <tr>\n",
       "      <th>20</th>\n",
       "      <td>first_survey</td>\n",
       "      <td>0.221719</td>\n",
       "    </tr>\n",
       "    <tr>\n",
       "      <th>32</th>\n",
       "      <td>STATUS_ratio_hour</td>\n",
       "      <td>0.156656</td>\n",
       "    </tr>\n",
       "    <tr>\n",
       "      <th>27</th>\n",
       "      <td>weekday</td>\n",
       "      <td>0.130798</td>\n",
       "    </tr>\n",
       "    <tr>\n",
       "      <th>24</th>\n",
       "      <td>STATUS_ratio_IR</td>\n",
       "      <td>0.080607</td>\n",
       "    </tr>\n",
       "    <tr>\n",
       "      <th>28</th>\n",
       "      <td>hour</td>\n",
       "      <td>0.07966</td>\n",
       "    </tr>\n",
       "    <tr>\n",
       "      <th>44</th>\n",
       "      <td>user_count</td>\n",
       "      <td>0.065626</td>\n",
       "    </tr>\n",
       "    <tr>\n",
       "      <th>23</th>\n",
       "      <td>IR_SUM</td>\n",
       "      <td>0.059384</td>\n",
       "    </tr>\n",
       "    <tr>\n",
       "      <th>33</th>\n",
       "      <td>user_IR_mean</td>\n",
       "      <td>0.056993</td>\n",
       "    </tr>\n",
       "    <tr>\n",
       "      <th>0</th>\n",
       "      <td>IR</td>\n",
       "      <td>0.045986</td>\n",
       "    </tr>\n",
       "    <tr>\n",
       "      <th>25</th>\n",
       "      <td>STATUS_ratio_LOI</td>\n",
       "      <td>0.045191</td>\n",
       "    </tr>\n",
       "    <tr>\n",
       "      <th>30</th>\n",
       "      <td>TIMEFREQ</td>\n",
       "      <td>0.042372</td>\n",
       "    </tr>\n",
       "    <tr>\n",
       "      <th>35</th>\n",
       "      <td>user_CPI_mean</td>\n",
       "      <td>0.035428</td>\n",
       "    </tr>\n",
       "    <tr>\n",
       "      <th>1</th>\n",
       "      <td>LOI</td>\n",
       "      <td>0.032159</td>\n",
       "    </tr>\n",
       "    <tr>\n",
       "      <th>2</th>\n",
       "      <td>CPI</td>\n",
       "      <td>0.020116</td>\n",
       "    </tr>\n",
       "    <tr>\n",
       "      <th>19</th>\n",
       "      <td>error_sum</td>\n",
       "      <td>0.018503</td>\n",
       "    </tr>\n",
       "    <tr>\n",
       "      <th>6</th>\n",
       "      <td>TYPE</td>\n",
       "      <td>0.018182</td>\n",
       "    </tr>\n",
       "    <tr>\n",
       "      <th>4</th>\n",
       "      <td>GENDER</td>\n",
       "      <td>0.01757</td>\n",
       "    </tr>\n",
       "    <tr>\n",
       "      <th>5</th>\n",
       "      <td>REGION</td>\n",
       "      <td>0.017084</td>\n",
       "    </tr>\n",
       "    <tr>\n",
       "      <th>11</th>\n",
       "      <td>SQ6</td>\n",
       "      <td>0.015617</td>\n",
       "    </tr>\n",
       "    <tr>\n",
       "      <th>46</th>\n",
       "      <td>IR_ind</td>\n",
       "      <td>0.014948</td>\n",
       "    </tr>\n",
       "    <tr>\n",
       "      <th>34</th>\n",
       "      <td>user_LOI_mean</td>\n",
       "      <td>0.014351</td>\n",
       "    </tr>\n",
       "    <tr>\n",
       "      <th>14</th>\n",
       "      <td>A1</td>\n",
       "      <td>0.012585</td>\n",
       "    </tr>\n",
       "    <tr>\n",
       "      <th>7</th>\n",
       "      <td>SQ2</td>\n",
       "      <td>0.011472</td>\n",
       "    </tr>\n",
       "    <tr>\n",
       "      <th>12</th>\n",
       "      <td>SQ7</td>\n",
       "      <td>0.010644</td>\n",
       "    </tr>\n",
       "    <tr>\n",
       "      <th>29</th>\n",
       "      <td>last_survey</td>\n",
       "      <td>0.009159</td>\n",
       "    </tr>\n",
       "    <tr>\n",
       "      <th>21</th>\n",
       "      <td>Points_earned</td>\n",
       "      <td>0.005452</td>\n",
       "    </tr>\n",
       "    <tr>\n",
       "      <th>47</th>\n",
       "      <td>LOI_ind</td>\n",
       "      <td>0.004489</td>\n",
       "    </tr>\n",
       "    <tr>\n",
       "      <th>22</th>\n",
       "      <td>LOI_SUM</td>\n",
       "      <td>0.003734</td>\n",
       "    </tr>\n",
       "    <tr>\n",
       "      <th>45</th>\n",
       "      <td>STAT1user_count</td>\n",
       "      <td>0.003301</td>\n",
       "    </tr>\n",
       "    <tr>\n",
       "      <th>3</th>\n",
       "      <td>BIRTH</td>\n",
       "      <td>0.003185</td>\n",
       "    </tr>\n",
       "    <tr>\n",
       "      <th>48</th>\n",
       "      <td>CPI_ind</td>\n",
       "      <td>0.003143</td>\n",
       "    </tr>\n",
       "    <tr>\n",
       "      <th>10</th>\n",
       "      <td>SQ5</td>\n",
       "      <td>0.003064</td>\n",
       "    </tr>\n",
       "    <tr>\n",
       "      <th>8</th>\n",
       "      <td>SQ3</td>\n",
       "      <td>0.002534</td>\n",
       "    </tr>\n",
       "    <tr>\n",
       "      <th>9</th>\n",
       "      <td>SQ4</td>\n",
       "      <td>0.002146</td>\n",
       "    </tr>\n",
       "    <tr>\n",
       "      <th>13</th>\n",
       "      <td>SQ8</td>\n",
       "      <td>0.001694</td>\n",
       "    </tr>\n",
       "    <tr>\n",
       "      <th>36</th>\n",
       "      <td>BIRTH_STATUS</td>\n",
       "      <td>0.001626</td>\n",
       "    </tr>\n",
       "    <tr>\n",
       "      <th>31</th>\n",
       "      <td>STATUS_ratio_weekday</td>\n",
       "      <td>0.001507</td>\n",
       "    </tr>\n",
       "    <tr>\n",
       "      <th>15</th>\n",
       "      <td>B3</td>\n",
       "      <td>0.001269</td>\n",
       "    </tr>\n",
       "    <tr>\n",
       "      <th>16</th>\n",
       "      <td>B4</td>\n",
       "      <td>0.000216</td>\n",
       "    </tr>\n",
       "    <tr>\n",
       "      <th>18</th>\n",
       "      <td>C1</td>\n",
       "      <td>0.0</td>\n",
       "    </tr>\n",
       "    <tr>\n",
       "      <th>17</th>\n",
       "      <td>B5</td>\n",
       "      <td>0.0</td>\n",
       "    </tr>\n",
       "  </tbody>\n",
       "</table>\n",
       "</div>"
      ],
      "text/plain": [
       "             column_name shap_importance\n",
       "40                    w4         0.55742\n",
       "37                    w1        0.550411\n",
       "26      STATUS_ratio_CPI        0.500782\n",
       "38                    w2        0.395011\n",
       "43                  user        0.340275\n",
       "39                    w3         0.27822\n",
       "42                    w6        0.264657\n",
       "41                    w5        0.239932\n",
       "20          first_survey        0.221719\n",
       "32     STATUS_ratio_hour        0.156656\n",
       "27               weekday        0.130798\n",
       "24       STATUS_ratio_IR        0.080607\n",
       "28                  hour         0.07966\n",
       "44            user_count        0.065626\n",
       "23                IR_SUM        0.059384\n",
       "33          user_IR_mean        0.056993\n",
       "0                     IR        0.045986\n",
       "25      STATUS_ratio_LOI        0.045191\n",
       "30              TIMEFREQ        0.042372\n",
       "35         user_CPI_mean        0.035428\n",
       "1                    LOI        0.032159\n",
       "2                    CPI        0.020116\n",
       "19             error_sum        0.018503\n",
       "6                   TYPE        0.018182\n",
       "4                 GENDER         0.01757\n",
       "5                 REGION        0.017084\n",
       "11                   SQ6        0.015617\n",
       "46                IR_ind        0.014948\n",
       "34         user_LOI_mean        0.014351\n",
       "14                    A1        0.012585\n",
       "7                    SQ2        0.011472\n",
       "12                   SQ7        0.010644\n",
       "29           last_survey        0.009159\n",
       "21         Points_earned        0.005452\n",
       "47               LOI_ind        0.004489\n",
       "22               LOI_SUM        0.003734\n",
       "45       STAT1user_count        0.003301\n",
       "3                  BIRTH        0.003185\n",
       "48               CPI_ind        0.003143\n",
       "10                   SQ5        0.003064\n",
       "8                    SQ3        0.002534\n",
       "9                    SQ4        0.002146\n",
       "13                   SQ8        0.001694\n",
       "36          BIRTH_STATUS        0.001626\n",
       "31  STATUS_ratio_weekday        0.001507\n",
       "15                    B3        0.001269\n",
       "16                    B4        0.000216\n",
       "18                    C1             0.0\n",
       "17                    B5             0.0"
      ]
     },
     "execution_count": 147,
     "metadata": {},
     "output_type": "execute_result"
    }
   ],
   "source": [
    "import shap\n",
    "\n",
    "# DF, based on which importance is checked\n",
    "X_importance = X_test\n",
    "\n",
    "# Explain model predictions using shap library:\n",
    "model = LGBMClassifier(random_state=42).fit(X_train, y_train)\n",
    "explainer = shap.TreeExplainer(model)\n",
    "shap_values = explainer.shap_values(X_importance)\n",
    "\n",
    "# Plot summary_plot as barplot:\n",
    "shap.summary_plot(shap_values, X_importance, plot_type='bar')\n",
    "\n",
    "shap_sum = np.abs(shap_values).mean(axis=1)[1,:]\n",
    "importance_df = pd.DataFrame([X_importance.columns.tolist(), shap_sum.tolist()]).T\n",
    "importance_df.columns = ['column_name', 'shap_importance']\n",
    "importance_df = importance_df.sort_values('shap_importance', ascending=False)\n",
    "importance_df"
   ]
  },
  {
   "cell_type": "code",
   "execution_count": 148,
   "metadata": {
    "colab": {
     "base_uri": "https://localhost:8080/"
    },
    "id": "kVeWzOcpmYE2",
    "outputId": "448e27ca-1ade-4604-f392-006ac809866f"
   },
   "outputs": [
    {
     "data": {
      "text/plain": [
       "((1170545, 47), (1355517, 47))"
      ]
     },
     "execution_count": 148,
     "metadata": {},
     "output_type": "execute_result"
    }
   ],
   "source": [
    "features_selected = importance_df.query('shap_importance > 0').column_name.tolist()\n",
    "X_train = X_train[features_selected]\n",
    "X_test = X_test[features_selected]\n",
    "#X_valid = X_valid[features_selected]\n",
    "X_train.shape, X_test.shape#, X_valid.shape"
   ]
  },
  {
   "cell_type": "code",
   "execution_count": 149,
   "metadata": {
    "colab": {
     "base_uri": "https://localhost:8080/"
    },
    "id": "XQPsvEc3EVRf",
    "outputId": "e26deb5c-4544-4a8c-afcf-6d01fa92504f",
    "scrolled": true
   },
   "outputs": [
    {
     "data": {
      "text/plain": [
       "((1170545, 47), (1355517, 47))"
      ]
     },
     "execution_count": 149,
     "metadata": {},
     "output_type": "execute_result"
    }
   ],
   "source": [
    "X_train.shape, X_test.shape#, X_valid.shape"
   ]
  },
  {
   "cell_type": "code",
   "execution_count": 150,
   "metadata": {
    "colab": {
     "base_uri": "https://localhost:8080/"
    },
    "id": "cxRR8WbRBE_E",
    "outputId": "80c414d9-402d-494c-ccd3-a1987dccbd6d"
   },
   "outputs": [
    {
     "data": {
      "text/plain": [
       "2569"
      ]
     },
     "execution_count": 150,
     "metadata": {},
     "output_type": "execute_result"
    }
   ],
   "source": [
    "len(set(test.userID.unique()) - set(before_train.userID.unique()))\n",
    "# 비포 트레인에 없는 ID => 총 3천개\n",
    "# 트레인에 없는 ID => 총 4백개\n",
    "# tr_test에 없는 ID => 총 1700개"
   ]
  },
  {
   "cell_type": "markdown",
   "metadata": {
    "id": "nSokowSIBSI5"
   },
   "source": [
    "# 6. Modeling"
   ]
  },
  {
   "cell_type": "code",
   "execution_count": 152,
   "metadata": {
    "id": "X9KHo5-Ze9VG"
   },
   "outputs": [],
   "source": [
    "# Set Dataset\n",
    "train_X, valid_X, train_y, valid_y = train_test_split(X_train, y_train, test_size=0.3, random_state=42)\n",
    "evals = [(valid_X, valid_y)] "
   ]
  },
  {
   "cell_type": "code",
   "execution_count": 153,
   "metadata": {},
   "outputs": [
    {
     "data": {
      "text/plain": [
       "6564"
      ]
     },
     "execution_count": 153,
     "metadata": {},
     "output_type": "execute_result"
    }
   ],
   "source": [
    "gc.collect()"
   ]
  },
  {
   "cell_type": "markdown",
   "metadata": {},
   "source": [
    "* XGBoost"
   ]
  },
  {
   "cell_type": "code",
   "execution_count": 156,
   "metadata": {},
   "outputs": [],
   "source": [
    "from xgboost import XGBClassifier"
   ]
  },
  {
   "cell_type": "code",
   "execution_count": 157,
   "metadata": {},
   "outputs": [
    {
     "name": "stdout",
     "output_type": "stream",
     "text": [
      "[04:40:07] WARNING: ..\\src\\learner.cc:541: \n",
      "Parameters: { boost_from_average, subsamle } might not be used.\n",
      "\n",
      "  This may not be accurate due to some parameters are only used in language bindings but\n",
      "  passed down to XGBoost core.  Or some parameters are not used but slip through this\n",
      "  verification. Please open an issue if you find above cases.\n",
      "\n",
      "\n",
      "최적 하이퍼 파라미터:\n",
      " {'subsamle': 0.3, 'scale_pos_weight': 1.9000000000000001, 'reg_lambda': 4, 'reg_alpha': 0.0005, 'objective': 'binary:logistic', 'n_estimators': 100, 'min_split_loss': 20, 'min_child_weight': 50, 'max_depth': 6, 'learning_rate': 0.01, 'eval_metric': 'error', 'colsample_bytree': 0.5, 'boost_from_average': False}\n",
      "최고 예측 스코어: 0.9248\n",
      "-0.9299215380160137\n"
     ]
    }
   ],
   "source": [
    "xgb = XGBClassifier(random_state = 42)\n",
    "\n",
    "# RandomSearchCV를 이용한 XGBoost의 하이퍼 파라미터 튜닝\n",
    "param_grid={'learning_rate': [1, 0.1, 0.01],\n",
    "         'n_estimators': [100, 200, 300],\n",
    "         'max_depth':[3,4,6,8,10],\n",
    "         'subsamle':[0.3, 0.5, 0.7, 1],\n",
    "         'min_child_weight':[10,20,50,100],\n",
    "         'objective':['binary:logistic'],\n",
    "         'eval_metric':['error'],\n",
    "         'min_split_loss':[10,20,50,100],\n",
    "         'colsample_bytree': [0.5, 0.7, 0.9, 1],\n",
    "         'reg_alpha': [0.0001,0.001,0.01,0.0005,0.005,0.05,0.1,0.15,0.2,0.3,0.4,0.5,0.7,1,2,3,4,5,10],\n",
    "         'reg_lambda': [0.0001,0.001,0.01,0.0005,0.005,0.05,0.1,0.15,0.2,0.3,0.4,0.5,0.7,1,2,3,4,5,10],\n",
    "         'scale_pos_weight': np.arange(0.0, 50.1, 0.1),\n",
    "         'boost_from_average' : [False]\n",
    "}\n",
    "\n",
    "\n",
    "xgb_rcv = RandomizedSearchCV(xgb, param_distributions=param_grid, scoring='roc_auc', n_jobs = -1, cv = 3, n_iter=8) \n",
    "xgb_rcv.fit(X_train,y_train)\n",
    "\n",
    "\n",
    "print('최적 하이퍼 파라미터:\\n', xgb_rcv.best_params_)\n",
    "print('최고 예측 스코어: {0:.4f}'.format(xgb_rcv.best_score_))\n",
    "print(-(xgb_rcv.score(valid_X, valid_y)))"
   ]
  },
  {
   "cell_type": "code",
   "execution_count": 159,
   "metadata": {},
   "outputs": [
    {
     "name": "stdout",
     "output_type": "stream",
     "text": [
      "-0.9299215380160137\n"
     ]
    }
   ],
   "source": [
    "xgb_pred = xgb_rcv.predict(valid_X)\n",
    "xgb_pred_proba = xgb_rcv.predict_proba(valid_X)[:,1]\n",
    "\n",
    "print(-(xgb_rcv.score(valid_X, valid_y)))"
   ]
  },
  {
   "cell_type": "markdown",
   "metadata": {},
   "source": [
    "* 점수확인"
   ]
  },
  {
   "cell_type": "code",
   "execution_count": 151,
   "metadata": {},
   "outputs": [],
   "source": [
    "from sklearn.metrics import *\n",
    "\n",
    "def get_clf_eval(y_test, pred=None, pred_proba=None): \n",
    "    confusion = confusion_matrix(y_test, pred) \n",
    "    accuracy = accuracy_score(y_test, pred) \n",
    "    precision = precision_score(y_test, pred) \n",
    "    recall = recall_score(y_test, pred) \n",
    "    f1 = f1_score(y_test, pred) \n",
    "    roc_auc = roc_auc_score(y_test, pred_proba) \n",
    "    \n",
    "    print('Confusion Matrix') \n",
    "    print(confusion) \n",
    "    print('accuracy: {0:.4f}, precision: {1:.4f}, recall: {2:.4f}, f1: {3:.4f}, roc_auc: {4:.4f}'.format( accuracy, precision, recall, f1, roc_auc))"
   ]
  },
  {
   "cell_type": "code",
   "execution_count": 160,
   "metadata": {},
   "outputs": [
    {
     "name": "stdout",
     "output_type": "stream",
     "text": [
      "Confusion Matrix\n",
      "[[182427  43282]\n",
      " [ 12328 113127]]\n",
      "accuracy: 0.8416, precision: 0.7233, recall: 0.9017, f1: 0.8027, roc_auc: 0.9299\n"
     ]
    }
   ],
   "source": [
    "get_clf_eval(valid_y, xgb_pred, xgb_pred_proba)"
   ]
  },
  {
   "cell_type": "markdown",
   "metadata": {
    "id": "JDsbi2eTMCpb"
   },
   "source": [
    "# 7. Submission"
   ]
  },
  {
   "cell_type": "code",
   "execution_count": 161,
   "metadata": {},
   "outputs": [],
   "source": [
    "pd.DataFrame({'ID': ID, 'STATUS':  xgb_rcv.predict_proba(X_test)[:,1]}).to_csv('XGBoost_0.89734.csv', index=False)"
   ]
  }
 ],
 "metadata": {
  "colab": {
   "collapsed_sections": [
    "_AYoef--WWCn",
    "r_6M93ZJWWC0",
    "hxOSyDhAWWDG",
    "0TygoawGWWDI",
    "eU1n88UhWWDI",
    "LB1a6FOliE0K"
   ],
   "name": "TEST_LGBM.ipynb의 사본",
   "provenance": []
  },
  "kernelspec": {
   "display_name": "Python 3",
   "language": "python",
   "name": "python3"
  },
  "language_info": {
   "codemirror_mode": {
    "name": "ipython",
    "version": 3
   },
   "file_extension": ".py",
   "mimetype": "text/x-python",
   "name": "python",
   "nbconvert_exporter": "python",
   "pygments_lexer": "ipython3",
   "version": "3.8.5"
  }
 },
 "nbformat": 4,
 "nbformat_minor": 1
}
