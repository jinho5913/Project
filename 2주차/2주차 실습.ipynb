{
 "cells": [
  {
   "cell_type": "markdown",
   "id": "570ebffc",
   "metadata": {},
   "source": [
    "### 1.  1부터 n까지 곱을 구하는 함수를 만든 후, 5!, 10!을 출력하는 프로그램을 만들어라."
   ]
  },
  {
   "cell_type": "code",
   "execution_count": 8,
   "id": "3d701ddd",
   "metadata": {},
   "outputs": [
    {
     "name": "stdout",
     "output_type": "stream",
     "text": [
      "120\n",
      "3628800\n"
     ]
    }
   ],
   "source": [
    "def factorial(n):\n",
    "    fact = 1\n",
    "    for i in range(1, n+1):\n",
    "        fact = fact*i\n",
    "    return fact\n",
    "    \n",
    "print(factorial(5))\n",
    "print(factorial(10))"
   ]
  },
  {
   "cell_type": "markdown",
   "id": "6b01faa2",
   "metadata": {},
   "source": [
    "### 2. 시작 숫자와 마지막 숫자를 입력받아서 정수의 합계를 구하는 프로그램을 만들어라. 1, 10을 입력하면 1~10까지의 합계를 구하는 것이다."
   ]
  },
  {
   "cell_type": "code",
   "execution_count": 7,
   "id": "71e99daa",
   "metadata": {},
   "outputs": [
    {
     "name": "stdout",
     "output_type": "stream",
     "text": [
      "시작 숫자를 입력하세요 :1\n",
      "마지막 숫자를 입력하세요 :10\n"
     ]
    },
    {
     "data": {
      "text/plain": [
       "55"
      ]
     },
     "execution_count": 7,
     "metadata": {},
     "output_type": "execute_result"
    }
   ],
   "source": [
    "def all_sum(n1, n2):\n",
    "    count = 0\n",
    "    for i in range(n1, n2+1):\n",
    "        count += i\n",
    "    return count\n",
    "\n",
    "a = int(input('시작 숫자를 입력하세요 :'))\n",
    "b = int(input('마지막 숫자를 입력하세요 :'))\n",
    "all_sum(a, b)"
   ]
  },
  {
   "cell_type": "code",
   "execution_count": null,
   "id": "99e5f185",
   "metadata": {},
   "outputs": [],
   "source": []
  },
  {
   "cell_type": "code",
   "execution_count": null,
   "id": "86a8b763",
   "metadata": {},
   "outputs": [],
   "source": []
  },
  {
   "cell_type": "code",
   "execution_count": null,
   "id": "e5614ca7",
   "metadata": {},
   "outputs": [],
   "source": []
  },
  {
   "cell_type": "code",
   "execution_count": null,
   "id": "161b9112",
   "metadata": {},
   "outputs": [],
   "source": []
  }
 ],
 "metadata": {
  "kernelspec": {
   "display_name": "Python 3 (ipykernel)",
   "language": "python",
   "name": "python3"
  },
  "language_info": {
   "codemirror_mode": {
    "name": "ipython",
    "version": 3
   },
   "file_extension": ".py",
   "mimetype": "text/x-python",
   "name": "python",
   "nbconvert_exporter": "python",
   "pygments_lexer": "ipython3",
   "version": "3.9.7"
  }
 },
 "nbformat": 4,
 "nbformat_minor": 5
}
